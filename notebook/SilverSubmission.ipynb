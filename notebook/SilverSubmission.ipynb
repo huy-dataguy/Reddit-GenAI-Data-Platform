{
 "cells": [
  {
   "cell_type": "markdown",
   "id": "710119c6-fc22-4c91-bb22-ac481e1423f8",
   "metadata": {},
   "source": [
    "## 1. Tạo Class"
   ]
  },
  {
   "cell_type": "code",
   "execution_count": 1,
   "id": "360cbdb1-4c17-4361-8ebf-197b94ef2305",
   "metadata": {},
   "outputs": [],
   "source": [
    "from pyspark.sql import functions as F\n",
    "from pyspark.sql import SparkSession\n",
    "from pyspark.sql.types import *\n",
    "from pyspark.sql.functions import *"
   ]
  },
  {
   "cell_type": "code",
   "execution_count": 2,
   "id": "c97a59c7-1f12-4429-9666-b9082e0533a2",
   "metadata": {},
   "outputs": [],
   "source": [
    "class BaseTransformer:\n",
    "    def __init__(self, sparkSession):\n",
    "        self.spark = sparkSession\n",
    "    def readData(self, path, format=\"json\", schema=None):\n",
    "        reader=self.spark.read.format(format)\n",
    "        if schema:\n",
    "            reader.schema(schema)\n",
    "        df=reader.load(path)\n",
    "        return df\n",
    "    def writeData(self, df, path, format=\"json\", dbPath=None, checkpointPath=None, mode=\"append\", streaming=False):\n",
    "        if streaming:\n",
    "            writer = (\n",
    "                df.writeStream\n",
    "                .format(format)\n",
    "                .option(\"checkpointLocation\", checkpointPath)\n",
    "                .outputMode(mode)\n",
    "            )\n",
    "            query = writer.toTable(dbPath)\n",
    "            query.awaitTermination()\n",
    "        else:\n",
    "            (\n",
    "                df.write\n",
    "                .format(format)\n",
    "                .mode(mode)\n",
    "                .save(path)\n",
    "            )\n",
    "    def showShape(self, df):\n",
    "        return (len(df.columns), df.count())\n",
    "\n",
    "    def convertTimestamp(self, df, colName=\"created_utc\", newCol=\"createdDate\"):\n",
    "        return df.withColumn(\n",
    "            newCol,\n",
    "            F.from_unixtime(F.col(colName)).cast(\"timestamp\")\n",
    "        )\n",
    "\n",
    "    def markAuthorDeleted(self, df, authorCol=\"author\", nameAuthor=\"author_fullname\", newCol=\"accDeleted\"):\n",
    "        return df.withColumn(\n",
    "            newCol,\n",
    "            (F.col(authorCol) == \"[deleted]\") & F.col(nameAuthor).isNull()\n",
    "        )\n",
    "\n",
    "    def markBodyRemoved(self, df, body=\"selftext\", newCol=\"postDeleted\"):\n",
    "        return df.withColumn(\n",
    "            newCol,\n",
    "            F.col(body) == \"[removed]\"\n",
    "        )"
   ]
  },
  {
   "cell_type": "code",
   "execution_count": 3,
   "id": "abfebd81-cb5c-4f63-b229-9b974e8f29d7",
   "metadata": {},
   "outputs": [],
   "source": [
    "class SubmissionTransformer(BaseTransformer):\n",
    "    def __init__(self, sparkSession):\n",
    "        super().__init__(sparkSession)\n",
    "\n",
    "    def markSpamPost(self, df, titleCol=\"title\", urlCol=\"url\", domainCol=\"domain\", subredditCol=\"subreddit\", newCol=\"isPostSpam\"):\n",
    "        words = F.split(F.lower(F.col(titleCol)), \" \")\n",
    "        numMatched = F.size(\n",
    "        F.expr(f\"filter(split(lower({titleCol}), ' '), word -> instr(lower({urlCol}), word) > 0)\")\n",
    "        )        \n",
    "        totalWord = F.size(words)\n",
    "        matchPercent = (numMatched * 100) / totalWord\n",
    "        isPostSpam = (matchPercent >= 55) & (\n",
    "        F.col(domainCol) != F.concat(F.lit(\"self.\"), F.col(subredditCol))\n",
    "        )\n",
    "        \n",
    "        return df.withColumn(\"matchPercent\", matchPercent).withColumn(newCol, isPostSpam)        \n",
    "\n",
    "    def transform(self, df):\n",
    "        df = self.convertTimestamp(df)\n",
    "        df = self.markAuthorDeleted(df) \n",
    "        df = self.markBodyRemoved(df)\n",
    "        df = self.markSpamPost(df)\n",
    "        return df"
   ]
  },
  {
   "cell_type": "code",
   "execution_count": 4,
   "id": "38338e83-08a5-4ce7-a862-2bfd0adbad94",
   "metadata": {},
   "outputs": [],
   "source": [
    "class GoldTransformer(BaseTransformer):\n",
    "    def __init__(self, sparkSession, dfSubmission, dfComment):\n",
    "        super().__init__(sparkSession)\n",
    "        self.dfSubmission = dfSubmission\n",
    "        self.dfComment = dfComment\n",
    "    \n",
    "    def createDimTime(self,timestampCol=\"createdDate\"):\n",
    "        dfTimestamp=self.dfSubmission.select(timestampCol).distinct().union(self.dfComment.select(timestampCol).distinct())\n",
    "        dimTime=(dfTimestamp.withColumn(\"year\", F.year(F.col(timestampCol)))\n",
    "                            .withColumn(\"month\", F.month(F.col(timestampCol)))\n",
    "                            .withColumn(\"day\", F.dayofmonth(F.col(timestampCol)))\n",
    "                            .withColumn(\"hour\", F.hour(F.col(timestampCol)))\n",
    "                            .withColumn(\"day_of_week\", F.dayofweek(F.col(timestampCol)))\n",
    "                            .withColumnRenamed(timestampCol, \"time_key\"))\n",
    "        return dimTime\n",
    "        \n",
    "    def createDimAuthor(self, authorName=\"author\", authorKey=\"author_fullname\"):\n",
    "        dimAuthor=(self.dfSubmission.select(authorName, authorKey).distinct()\n",
    "            .union(self.dfComment.select(authorName, authorKey).distinct())\n",
    "            .distinct()\n",
    "            .withColumnRenamed(authorName, \"author_name\")\n",
    "            .withColumnRenamed(authorKey, \"author_key\"))\n",
    "        return dimAuthor\n",
    "\n"
   ]
  },
  {
   "cell_type": "markdown",
   "id": "c844882c-7507-4da8-92fa-19f76b3cb516",
   "metadata": {},
   "source": [
    "## 2. Spark Session"
   ]
  },
  {
   "cell_type": "code",
   "execution_count": 15,
   "id": "8179d72d-172a-4a6c-92a5-36f9a9181246",
   "metadata": {},
   "outputs": [],
   "source": [
    "spark = SparkSession.builder.appName(\"Transformer\").getOrCreate()"
   ]
  },
  {
   "cell_type": "markdown",
   "id": "af6c8aa3-13d6-43eb-a6f2-dcb49e13b5b3",
   "metadata": {},
   "source": [
    "## 3. Transform Submission Silver"
   ]
  },
  {
   "cell_type": "code",
   "execution_count": 7,
   "id": "aa2cdc88-3988-4050-948e-045d4550881b",
   "metadata": {},
   "outputs": [],
   "source": [
    "pathSub = \"../data/RS_reddit.jsonl\"\n",
    "rSubmissionBronzeSchema = StructType([\n",
    "    StructField(\"id\", StringType(), True),\n",
    "    StructField(\"title\", StringType(), True),\n",
    "    StructField(\"selftext\", StringType(), True),\n",
    "    StructField(\"url\", StringType(), True),\n",
    "    StructField(\"permalink\", StringType(), True),\n",
    "    StructField(\"domain\", StringType(), True),\n",
    "    StructField(\"post_hint\", StringType(), True),\n",
    "    StructField(\"author\", StringType(), True),\n",
    "    StructField(\"author_fullname\", StringType(), True),\n",
    "    StructField(\"created_utc\", LongType(), True),\n",
    "    StructField(\"subreddit\", StringType(), True),\n",
    "    StructField(\"subreddit_id\", StringType(), True),\n",
    "    StructField(\"subreddit_name_prefixed\", StringType(), True),\n",
    "    StructField(\"subreddit_type\", StringType(), True),\n",
    "    StructField(\"subreddit_subscribers\", IntegerType(), True),\n",
    "    StructField(\"score\", IntegerType(), True),\n",
    "    StructField(\"num_comments\", IntegerType(), True),\n",
    "    StructField(\"total_awards_received\", IntegerType(), True),\n",
    "    StructField(\"edited\", BooleanType(), True),\n",
    "    StructField(\"locked\", BooleanType(), True),\n",
    "    StructField(\"spoiler\", BooleanType(), True),\n",
    "    StructField(\"over_18\", BooleanType(), True),\n",
    "    StructField(\"stickied\", BooleanType(), True),   \n",
    "    StructField(\"retrieved_on\", LongType(), True),\n",
    "    StructField(\"is_original_content\", BooleanType(), True),\n",
    "    StructField(\"link_flair_text\", StringType(), True)\n",
    "])\n"
   ]
  },
  {
   "cell_type": "code",
   "execution_count": 8,
   "id": "5a5baf75-4229-4e05-8425-be3d537c29fd",
   "metadata": {},
   "outputs": [],
   "source": [
    "submission = SubmissionTransformer(spark)"
   ]
  },
  {
   "cell_type": "code",
   "execution_count": 9,
   "id": "6d4718c4-2c4f-4242-b3d0-d7251088a5c5",
   "metadata": {},
   "outputs": [],
   "source": [
    "dfSub = submission.readData(pathSub, schema=rSubmissionBronzeSchema)"
   ]
  },
  {
   "cell_type": "code",
   "execution_count": 13,
   "id": "5cab8eb7-413d-4549-bc33-5f780103ef1f",
   "metadata": {},
   "outputs": [
    {
     "data": {
      "text/plain": [
       "(31, 7306)"
      ]
     },
     "execution_count": 13,
     "metadata": {},
     "output_type": "execute_result"
    }
   ],
   "source": [
    "submission.showShape(dfSub)"
   ]
  },
  {
   "cell_type": "code",
   "execution_count": 14,
   "id": "9ecb8ed0-ebcd-4ad7-b825-237c53e5ee5c",
   "metadata": {},
   "outputs": [
    {
     "name": "stdout",
     "output_type": "stream",
     "text": [
      "+-------+--------------------+---------+--------------------+--------------------+-------------------+---------+---------+---------------+-----------+----------+------------+-----------------------+--------------+---------------------+-----+------------+---------------------+------+------+-------+-------+--------+------------+-------------------+---------------+-------------------+----------+-----------+------------------+----------+\n",
      "|     id|               title| selftext|                 url|           permalink|             domain|post_hint|   author|author_fullname|created_utc| subreddit|subreddit_id|subreddit_name_prefixed|subreddit_type|subreddit_subscribers|score|num_comments|total_awards_received|edited|locked|spoiler|over_18|stickied|retrieved_on|is_original_content|link_flair_text|        createdDate|accDeleted|postDeleted|      matchPercent|isPostSpam|\n",
      "+-------+--------------------+---------+--------------------+--------------------+-------------------+---------+---------+---------------+-----------+----------+------------+-----------------------+--------------+---------------------+-----+------------+---------------------+------+------+-------+-------+--------+------------+-------------------+---------------+-------------------+----------+-----------+------------------+----------+\n",
      "|1l0bhr6|            Someone?|[removed]|                    |/r/technology/com...|                   |     NULL|[deleted]|           NULL| 1748736445|technology|    t5_2qh16|           r/technology|        public|             19349025|    1|           0|                    0| false| false|  false|  false|   false|  1748736462|              false|       Business|2025-06-01 07:07:25|      true|       true|               0.0|     false|\n",
      "|1l0buai|AI Hasn’t Taken Y...|         |https://www.psych...|/r/Futurology/com...|psychologytoday.com|     link| Gari_305|    t2_65fa26pr| 1748737533|Futurology|    t5_2t7no|           r/Futurology|        public|             21575272|    0|           9|                    0| false| false|  false|  false|   false|  1748737548|              false|             AI|2025-06-01 07:25:33|     false|      false|57.142857142857146|      true|\n",
      "+-------+--------------------+---------+--------------------+--------------------+-------------------+---------+---------+---------------+-----------+----------+------------+-----------------------+--------------+---------------------+-----+------------+---------------------+------+------+-------+-------+--------+------------+-------------------+---------------+-------------------+----------+-----------+------------------+----------+\n",
      "only showing top 2 rows\n",
      "\n"
     ]
    }
   ],
   "source": [
    "dfSub.show(2)"
   ]
  },
  {
   "cell_type": "code",
   "execution_count": 12,
   "id": "a287e84d-1125-4c39-aa27-c5d4fd6e7cb8",
   "metadata": {},
   "outputs": [],
   "source": [
    "dfSub = submission.transform(dfSub)"
   ]
  },
  {
   "cell_type": "markdown",
   "id": "7fe82fce-b70d-415d-9f96-372897e31599",
   "metadata": {},
   "source": [
    "## 3. Transform Comment Silver"
   ]
  },
  {
   "cell_type": "code",
   "execution_count": 17,
   "id": "b3b90468-d0eb-4513-a13c-7d37062a793c",
   "metadata": {},
   "outputs": [],
   "source": [
    "comment=SubmissionTransformer(spark)"
   ]
  },
  {
   "cell_type": "code",
   "execution_count": 18,
   "id": "3cf7f5f3-1018-418b-bd95-4d2bd5784e89",
   "metadata": {},
   "outputs": [],
   "source": [
    "pathCmt = \"../data/RC_reddit.jsonl\"\n",
    "\n",
    "rCommentBronzeSchema = StructType([\n",
    "    StructField(\"id\", StringType(), True),\n",
    "    StructField(\"body\", StringType(), True),\n",
    "    StructField(\"created_utc\", LongType(), True),\n",
    "    StructField(\"edited\", BooleanType(), True),\n",
    "    StructField(\"score\", IntegerType(), True),\n",
    "    StructField(\"author\", StringType(), True),\n",
    "    StructField(\"author_fullname\", StringType(), True),\n",
    "    StructField(\"author_created_utc\", LongType(), True),\n",
    "    StructField(\"parent_id\", StringType(), True),\n",
    "    StructField(\"link_id\", StringType(), True),\n",
    "    StructField(\"is_submitter\", BooleanType(), True),\n",
    "    StructField(\"permalink\", StringType(), True),\n",
    "    StructField(\"subreddit\", StringType(), True),\n",
    "    StructField(\"subreddit_id\", StringType(), True),\n",
    "    StructField(\"subreddit_name_prefixed\", StringType(), True),\n",
    "    StructField(\"subreddit_type\", StringType(), True),\n",
    "    StructField(\"total_awards_received\", IntegerType(), True),\n",
    "    StructField(\"controversiality\", IntegerType(), True),\n",
    "    StructField(\"retrieved_on\", LongType(), True),\n",
    "    StructField(\"stickied\", BooleanType(), True)\n",
    "])\n",
    "\n"
   ]
  },
  {
   "cell_type": "code",
   "execution_count": 20,
   "id": "005cadc9-8874-41d1-a31c-033dc3f2c8d7",
   "metadata": {},
   "outputs": [],
   "source": [
    "dfCmt=comment.readData(pathCmt, schema=rCommentBronzeSchema)"
   ]
  },
  {
   "cell_type": "code",
   "execution_count": 22,
   "id": "a13a149e-f36b-43e3-b02f-43839ae3a9c8",
   "metadata": {},
   "outputs": [
    {
     "data": {
      "text/plain": [
       "(20, 65661)"
      ]
     },
     "execution_count": 22,
     "metadata": {},
     "output_type": "execute_result"
    }
   ],
   "source": [
    "comment.showShape(dfCmt)"
   ]
  },
  {
   "cell_type": "code",
   "execution_count": 25,
   "id": "953520e2-41fd-4dd3-b272-4773e56e2bc1",
   "metadata": {},
   "outputs": [
    {
     "name": "stdout",
     "output_type": "stream",
     "text": [
      "+-------+--------------------+-----------+------+-----+---------+---------------+------------------+----------+----------+------------+--------------------+----------+------------+-----------------------+--------------+---------------------+----------------+------------+--------+-------------------+\n",
      "|     id|                body|created_utc|edited|score|   author|author_fullname|author_created_utc| parent_id|   link_id|is_submitter|           permalink| subreddit|subreddit_id|subreddit_name_prefixed|subreddit_type|total_awards_received|controversiality|retrieved_on|stickied|        createdDate|\n",
      "+-------+--------------------+-----------+------+-----+---------+---------------+------------------+----------+----------+------------+--------------------+----------+------------+-----------------------+--------------+---------------------+----------------+------------+--------+-------------------+\n",
      "|mvc2u2o|From the article\\...| 1748737579| false|    0| Gari_305|    t2_65fa26pr|              NULL|t3_1l0buai|t3_1l0buai|        true|/r/Futurology/com...|Futurology|    t5_2t7no|           r/Futurology|        public|                    0|               0|  1748737598|   false|2025-06-01 07:26:19|\n",
      "|mvc30mg|Submission statem...| 1748737649| false|    2|katxwoods|    t2_6h6wd5oz|              NULL|t3_1l0bvir|t3_1l0bvir|        true|/r/Futurology/com...|Futurology|    t5_2t7no|           r/Futurology|        public|                    0|               1|  1748737664|   false|2025-06-01 07:27:29|\n",
      "+-------+--------------------+-----------+------+-----+---------+---------------+------------------+----------+----------+------------+--------------------+----------+------------+-----------------------+--------------+---------------------+----------------+------------+--------+-------------------+\n",
      "only showing top 2 rows\n",
      "\n"
     ]
    }
   ],
   "source": [
    "dfCmt.show(2)"
   ]
  },
  {
   "cell_type": "code",
   "execution_count": 24,
   "id": "349527dc-46b1-46a0-a451-8fe057e70859",
   "metadata": {},
   "outputs": [],
   "source": [
    "dfCmt=comment.convertTimestamp(dfCmt)"
   ]
  },
  {
   "cell_type": "markdown",
   "id": "68e32548-d477-4d63-8964-a5221c4d5921",
   "metadata": {},
   "source": [
    "## 4. Gold Transform DimTime DimAuthor test "
   ]
  },
  {
   "cell_type": "code",
   "execution_count": 27,
   "id": "fd651056-a21d-4fbc-bab4-d342036325ad",
   "metadata": {},
   "outputs": [],
   "source": [
    "goldTransform=GoldTransformer(spark, dfSub, dfCmt)"
   ]
  },
  {
   "cell_type": "code",
   "execution_count": 28,
   "id": "a79c7320-2fde-4712-ba8c-c6483b1caaba",
   "metadata": {},
   "outputs": [],
   "source": [
    "dimTime=goldTransform.createDimTime()"
   ]
  },
  {
   "cell_type": "code",
   "execution_count": 29,
   "id": "cc260fc5-234f-4cf0-a52b-526236292db8",
   "metadata": {},
   "outputs": [
    {
     "name": "stderr",
     "output_type": "stream",
     "text": [
      "                                                                                "
     ]
    },
    {
     "data": {
      "text/plain": [
       "(6, 68404)"
      ]
     },
     "execution_count": 29,
     "metadata": {},
     "output_type": "execute_result"
    }
   ],
   "source": [
    "goldTransform.showShape(dimTime)"
   ]
  },
  {
   "cell_type": "code",
   "execution_count": 31,
   "id": "2663101a-ddb5-4505-9798-dd6f55aa11ba",
   "metadata": {},
   "outputs": [
    {
     "name": "stdout",
     "output_type": "stream",
     "text": [
      "+-------------------+----+-----+---+----+-----------+\n",
      "|           time_key|year|month|day|hour|day_of_week|\n",
      "+-------------------+----+-----+---+----+-----------+\n",
      "|2025-06-02 06:55:46|2025|    6|  2|   6|          2|\n",
      "|2025-06-02 16:35:56|2025|    6|  2|  16|          2|\n",
      "|2025-06-03 23:13:52|2025|    6|  3|  23|          3|\n",
      "|2025-06-06 03:20:51|2025|    6|  6|   3|          6|\n",
      "|2025-06-06 18:57:36|2025|    6|  6|  18|          6|\n",
      "|2025-06-06 22:36:02|2025|    6|  6|  22|          6|\n",
      "|2025-06-07 08:18:52|2025|    6|  7|   8|          7|\n",
      "|2025-06-10 01:57:39|2025|    6| 10|   1|          3|\n",
      "|2025-06-10 02:44:55|2025|    6| 10|   2|          3|\n",
      "|2025-06-11 18:59:08|2025|    6| 11|  18|          4|\n",
      "|2025-06-11 21:17:25|2025|    6| 11|  21|          4|\n",
      "|2025-06-13 08:42:31|2025|    6| 13|   8|          6|\n",
      "|2025-06-13 14:58:06|2025|    6| 13|  14|          6|\n",
      "|2025-06-14 18:57:48|2025|    6| 14|  18|          7|\n",
      "|2025-06-16 19:38:33|2025|    6| 16|  19|          2|\n",
      "|2025-06-10 23:53:39|2025|    6| 10|  23|          3|\n",
      "|2025-06-12 06:08:47|2025|    6| 12|   6|          5|\n",
      "|2025-06-14 03:52:09|2025|    6| 14|   3|          7|\n",
      "|2025-06-15 06:40:38|2025|    6| 15|   6|          1|\n",
      "|2025-06-15 18:23:22|2025|    6| 15|  18|          1|\n",
      "+-------------------+----+-----+---+----+-----------+\n",
      "only showing top 20 rows\n",
      "\n"
     ]
    }
   ],
   "source": [
    "dimTime.show()"
   ]
  },
  {
   "cell_type": "code",
   "execution_count": 32,
   "id": "abb694bb-89ed-4813-ad75-73edb7c61edb",
   "metadata": {},
   "outputs": [],
   "source": [
    "dimAuthor=dimTime=goldTransform.createDimAuthor()"
   ]
  },
  {
   "cell_type": "code",
   "execution_count": 33,
   "id": "20b6ee6d-1775-4da0-a600-a3db5c5c7f24",
   "metadata": {},
   "outputs": [
    {
     "name": "stderr",
     "output_type": "stream",
     "text": [
      "[Stage 33:===================>                                     (4 + 8) / 12]"
     ]
    },
    {
     "name": "stdout",
     "output_type": "stream",
     "text": [
      "+--------------------+-------------+\n",
      "|         author_name|   author_key|\n",
      "+--------------------+-------------+\n",
      "|        Wolseley1870|t2_1q409u707y|\n",
      "|DazzlingTelevision52|  t2_ad3mhj41|\n",
      "|             mitousa|  t2_2qa94c49|\n",
      "|       jluizsouzadev|  t2_8soz5t21|\n",
      "|          Wescoast64|t2_1oo7c8683g|\n",
      "|              somove|  t2_ih021hhb|\n",
      "|    Ok-Educator-2319| t2_xpr1s5zqj|\n",
      "| macrohard_certified|  t2_vvflmagc|\n",
      "| firestorm-the-maker|t2_1h0jzaw75f|\n",
      "|     TopEstimate5475|t2_1rrxu8cqh0|\n",
      "|             rkasper|     t2_towds|\n",
      "|      hthekiller6400|  t2_7vlg2wn0|\n",
      "|Abject-Persimmon-221|t2_1ob62361lq|\n",
      "|            RaMaZi16|t2_1r8f48tvws|\n",
      "|         saurabhs619|     t2_qsr8g|\n",
      "|       luxurarybrand|t2_1qvdnchwwq|\n",
      "|          hendrix616|    t2_11oao4|\n",
      "|     No_Alfalfa_4687|t2_1p643zezm6|\n",
      "| Additional-Hour6038|t2_1k33zn6zns|\n",
      "|       travisslayton|  t2_botj5nxx|\n",
      "+--------------------+-------------+\n",
      "only showing top 20 rows\n",
      "\n"
     ]
    },
    {
     "name": "stderr",
     "output_type": "stream",
     "text": [
      "                                                                                "
     ]
    }
   ],
   "source": [
    "dimAuthor.show()"
   ]
  },
  {
   "cell_type": "code",
   "execution_count": 35,
   "id": "2b43e0ec-6a5a-473a-98bc-56eb80e221da",
   "metadata": {},
   "outputs": [
    {
     "data": {
      "text/plain": [
       "(2, 34161)"
      ]
     },
     "execution_count": 35,
     "metadata": {},
     "output_type": "execute_result"
    }
   ],
   "source": [
    "goldTransform.showShape(dimAuthor)"
   ]
  },
  {
   "cell_type": "code",
   "execution_count": null,
   "id": "c41c63c6-c907-4753-b55d-e65083e24bda",
   "metadata": {},
   "outputs": [],
   "source": []
  }
 ],
 "metadata": {
  "kernelspec": {
   "display_name": "Python 3 (ipykernel)",
   "language": "python",
   "name": "python3"
  },
  "language_info": {
   "codemirror_mode": {
    "name": "ipython",
    "version": 3
   },
   "file_extension": ".py",
   "mimetype": "text/x-python",
   "name": "python",
   "nbconvert_exporter": "python",
   "pygments_lexer": "ipython3",
   "version": "3.12.3"
  }
 },
 "nbformat": 4,
 "nbformat_minor": 5
}
