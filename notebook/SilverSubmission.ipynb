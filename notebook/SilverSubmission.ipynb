{
 "cells": [
  {
   "cell_type": "code",
   "execution_count": 1,
   "id": "360cbdb1-4c17-4361-8ebf-197b94ef2305",
   "metadata": {},
   "outputs": [],
   "source": [
    "from pyspark.sql import functions as F\n",
    "from pyspark.sql import SparkSession\n",
    "from pyspark.sql.types import *\n",
    "from pyspark.sql.functions import *"
   ]
  },
  {
   "cell_type": "code",
   "execution_count": 2,
   "id": "c97a59c7-1f12-4429-9666-b9082e0533a2",
   "metadata": {},
   "outputs": [],
   "source": [
    "class BaseTransformer:\n",
    "    def __init__(self, sparkSession):\n",
    "        self.spark = sparkSession\n",
    "    def readData(self, path, format=\"json\", schema=None):\n",
    "        reader=self.spark.read.format(format)\n",
    "        if schema:\n",
    "            reader.schema(schema)\n",
    "        df=reader.load(path)\n",
    "        return df\n",
    "    def writeData(self, df, path, format=\"json\", dbPath=None, checkpointPath=None, mode=\"append\", streaming=False):\n",
    "        if streaming:\n",
    "            writer = (\n",
    "                df.writeStream\n",
    "                .format(format)\n",
    "                .option(\"checkpointLocation\", checkpointPath)\n",
    "                .outputMode(mode)\n",
    "            )\n",
    "            query = writer.toTable(dbPath)\n",
    "            query.awaitTermination()\n",
    "        else:\n",
    "            (\n",
    "                df.write\n",
    "                .format(format)\n",
    "                .mode(mode)\n",
    "                .save(path)\n",
    "            )\n",
    "    def showShape(self, df):\n",
    "        return (len(df.columns), df.count())\n",
    "\n",
    "    def convertTimestamp(self, df, colName=\"created_utc\", newCol=\"createdDate\"):\n",
    "        return df.withColumn(\n",
    "            newCol,\n",
    "            F.from_unixtime(F.col(colName)).cast(\"timestamp\")\n",
    "        )\n",
    "\n",
    "    def markAuthorDeleted(self, df, authorCol=\"author\", nameAuthor=\"author_fullname\", newCol=\"accDeleted\"):\n",
    "        return df.withColumn(\n",
    "            newCol,\n",
    "            (F.col(authorCol) == \"[deleted]\") & F.col(nameAuthor).isNull()\n",
    "        )\n",
    "\n",
    "    def markBodyRemoved(self, df, body=\"selftext\", newCol=\"postDeleted\"):\n",
    "        return df.withColumn(\n",
    "            newCol,\n",
    "            F.col(body) == \"[removed]\"\n",
    "        )"
   ]
  },
  {
   "cell_type": "code",
   "execution_count": 3,
   "id": "abfebd81-cb5c-4f63-b229-9b974e8f29d7",
   "metadata": {},
   "outputs": [],
   "source": [
    "class SubmissionTransformer(BaseTransformer):\n",
    "    def __init__(self, sparkSession):\n",
    "        super().__init__(sparkSession)\n",
    "\n",
    "    def markSpamPost(self, df, titleCol=\"title\", urlCol=\"url\", domainCol=\"domain\", subredditCol=\"subreddit\", newCol=\"isPostSpam\"):\n",
    "        words = F.split(F.lower(F.col(titleCol)), \" \")\n",
    "        numMatched = F.size(\n",
    "        F.expr(f\"filter(split(lower({titleCol}), ' '), word -> instr(lower({urlCol}), word) > 0)\")\n",
    "        )        \n",
    "        totalWord = F.size(words)\n",
    "        matchPercent = (numMatched * 100) / totalWord\n",
    "        isPostSpam = (matchPercent >= 0.6) & (\n",
    "        F.col(domainCol) != F.concat(F.lit(\"self.\"), F.col(subredditCol))\n",
    "        )\n",
    "        \n",
    "        return df.withColumn(\"matchPercent\", matchPercent).withColumn(newCol, isPostSpam)        "
   ]
  },
  {
   "cell_type": "code",
   "execution_count": 4,
   "id": "8179d72d-172a-4a6c-92a5-36f9a9181246",
   "metadata": {},
   "outputs": [
    {
     "name": "stderr",
     "output_type": "stream",
     "text": [
      "25/08/10 14:16:07 WARN Utils: Your hostname, Acer resolves to a loopback address: 127.0.1.1; using 192.168.1.6 instead (on interface wlp4s0)\n",
      "25/08/10 14:16:07 WARN Utils: Set SPARK_LOCAL_IP if you need to bind to another address\n",
      "Setting default log level to \"WARN\".\n",
      "To adjust logging level use sc.setLogLevel(newLevel). For SparkR, use setLogLevel(newLevel).\n",
      "25/08/10 14:16:07 WARN NativeCodeLoader: Unable to load native-hadoop library for your platform... using builtin-java classes where applicable\n"
     ]
    }
   ],
   "source": [
    "spark = SparkSession.builder.appName(\"SubmissionTransformer\").getOrCreate()"
   ]
  },
  {
   "cell_type": "code",
   "execution_count": 5,
   "id": "5a5baf75-4229-4e05-8425-be3d537c29fd",
   "metadata": {},
   "outputs": [],
   "source": [
    "submission = SubmissionTransformer(spark)"
   ]
  },
  {
   "cell_type": "code",
   "execution_count": 6,
   "id": "aa2cdc88-3988-4050-948e-045d4550881b",
   "metadata": {},
   "outputs": [],
   "source": [
    "path = \"../data/RS_reddit.jsonl\"\n",
    "rSubmissionBronzeSchema = StructType([\n",
    "    StructField(\"id\", StringType(), True),\n",
    "    StructField(\"title\", StringType(), True),\n",
    "    StructField(\"selftext\", StringType(), True),\n",
    "    StructField(\"url\", StringType(), True),\n",
    "    StructField(\"permalink\", StringType(), True),\n",
    "    StructField(\"domain\", StringType(), True),\n",
    "    StructField(\"post_hint\", StringType(), True),\n",
    "    StructField(\"author\", StringType(), True),\n",
    "    StructField(\"author_fullname\", StringType(), True),\n",
    "    StructField(\"created_utc\", LongType(), True),\n",
    "    StructField(\"subreddit\", StringType(), True),\n",
    "    StructField(\"subreddit_id\", StringType(), True),\n",
    "    StructField(\"subreddit_name_prefixed\", StringType(), True),\n",
    "    StructField(\"subreddit_type\", StringType(), True),\n",
    "    StructField(\"subreddit_subscribers\", IntegerType(), True),\n",
    "    StructField(\"score\", IntegerType(), True),\n",
    "    StructField(\"num_comments\", IntegerType(), True),\n",
    "    StructField(\"total_awards_received\", IntegerType(), True),\n",
    "    StructField(\"edited\", BooleanType(), True),\n",
    "    StructField(\"locked\", BooleanType(), True),\n",
    "    StructField(\"spoiler\", BooleanType(), True),\n",
    "    StructField(\"over_18\", BooleanType(), True),\n",
    "    StructField(\"stickied\", BooleanType(), True),   \n",
    "    StructField(\"retrieved_on\", LongType(), True),\n",
    "    StructField(\"is_original_content\", BooleanType(), True),\n",
    "    StructField(\"link_flair_text\", StringType(), True)\n",
    "])\n"
   ]
  },
  {
   "cell_type": "code",
   "execution_count": 7,
   "id": "3a0a1c84-3b0c-496d-ad65-3ea624f185bf",
   "metadata": {},
   "outputs": [],
   "source": [
    "df = submission.readData(path, schema=rSubmissionBronzeSchema)"
   ]
  },
  {
   "cell_type": "code",
   "execution_count": 15,
   "id": "5cab8eb7-413d-4549-bc33-5f780103ef1f",
   "metadata": {},
   "outputs": [
    {
     "data": {
      "text/plain": [
       "(31, 7306)"
      ]
     },
     "execution_count": 15,
     "metadata": {},
     "output_type": "execute_result"
    }
   ],
   "source": [
    "submission.showShape(df)"
   ]
  },
  {
   "cell_type": "code",
   "execution_count": 14,
   "id": "9ecb8ed0-ebcd-4ad7-b825-237c53e5ee5c",
   "metadata": {},
   "outputs": [
    {
     "name": "stdout",
     "output_type": "stream",
     "text": [
      "+-------+--------------------+--------------------+--------------------+--------------------+--------------------+---------+--------------------+---------------+-----------+-----------+------------+-----------------------+--------------+---------------------+-----+------------+---------------------+------+------+-------+-------+--------+------------+-------------------+--------------------+-------------------+----------+-----------+------------------+----------+\n",
      "|     id|               title|            selftext|                 url|           permalink|              domain|post_hint|              author|author_fullname|created_utc|  subreddit|subreddit_id|subreddit_name_prefixed|subreddit_type|subreddit_subscribers|score|num_comments|total_awards_received|edited|locked|spoiler|over_18|stickied|retrieved_on|is_original_content|     link_flair_text|        createdDate|accDeleted|postDeleted|      matchPercent|isPostSpam|\n",
      "+-------+--------------------+--------------------+--------------------+--------------------+--------------------+---------+--------------------+---------------+-----------+-----------+------------+-----------------------+--------------+---------------------+-----+------------+---------------------+------+------+-------+-------+--------+------------+-------------------+--------------------+-------------------+----------+-----------+------------------+----------+\n",
      "|1l0bhr6|            Someone?|           [removed]|                    |/r/technology/com...|                    |     NULL|           [deleted]|           NULL| 1748736445| technology|    t5_2qh16|           r/technology|        public|             19349025|    1|           0|                    0| false| false|  false|  false|   false|  1748736462|              false|            Business|2025-06-01 07:07:25|      true|       true|               0.0|     false|\n",
      "|1l0buai|AI Hasn’t Taken Y...|                    |https://www.psych...|/r/Futurology/com...| psychologytoday.com|     link|            Gari_305|    t2_65fa26pr| 1748737533| Futurology|    t5_2t7no|           r/Futurology|        public|             21575272|    0|           9|                    0| false| false|  false|  false|   false|  1748737548|              false|                  AI|2025-06-01 07:25:33|     false|      false|57.142857142857146|      true|\n",
      "|1l0bvir|We Should Not All...|                    |https://www.aipol...|/r/Futurology/com...|aipolicybulletin.org|     NULL|           katxwoods|    t2_6h6wd5oz| 1748737638| Futurology|    t5_2t7no|           r/Futurology|        public|             21575272|  675|          45|                    0| false| false|  false|  false|   false|  1748737657|              false|                  AI|2025-06-01 07:27:18|     false|      false| 94.11764705882354|      true|\n",
      "|1l0bvr5|        Amish and AI|The Amish in the ...|https://www.reddi...|/r/Futurology/com...|     self.Futurology|     NULL|       Businessmarck|    t2_8mw6j6fe| 1748737661| Futurology|    t5_2t7no|           r/Futurology|        public|             21575271|    0|          18|                    0| false| false|  false|  false|   false|  1748737675|              false|                  AI|2025-06-01 07:27:41|     false|      false|             100.0|     false|\n",
      "|1l0bxi9|Can You People ad...|                    |https://github.co...|/r/programming/co...|          github.com|     link|     Present_Fill412|   t2_p5klht0fl| 1748737813|programming|     t5_2fwo|          r/programming|        public|              6776435|    1|           0|                    0| false| false|  false|  false|   false|  1748737832|              false|                NULL|2025-06-01 07:30:13|     false|      false| 22.22222222222222|      true|\n",
      "|1l0by0l|General Chat · Op...|                    |https://github.co...|/r/programming/co...|          github.com|     NULL|     Present_Fill412|   t2_p5klht0fl| 1748737853|programming|     t5_2fwo|          r/programming|        public|              6776436|    1|           0|                    0| false| false|  false|  false|   false|  1748737870|              false|                NULL|2025-06-01 07:30:53|     false|      false|              50.0|      true|\n",
      "|1l0by6w|General Chat · Op...|                    |https://github.co...|/r/programming/co...|          github.com|     link|     Present_Fill412|   t2_p5klht0fl| 1748737870|programming|     t5_2fwo|          r/programming|        public|              6776436|    1|           0|                    0| false| false|  false|  false|   false|  1748737886|              false|                NULL|2025-06-01 07:31:10|     false|      false|              50.0|      true|\n",
      "|1l0bz34|Anyone here to sh...|                    |https://github.co...|/r/programming/co...|          github.com|     link|     Present_Fill412|   t2_p5klht0fl| 1748737948|programming|     t5_2fwo|          r/programming|        public|              6776436|    1|           1|                    0| false| false|  false|  false|   false|  1748737965|              false|                NULL|2025-06-01 07:32:28|     false|      false|               0.0|     false|\n",
      "|1l0c6o2|Welding robots to...|                    |https://inspenet....|/r/technology/com...|        inspenet.com|     link|    IlustriousCoffee|  t2_1khgdtu3js| 1748738610| technology|    t5_2qh16|           r/technology|        public|             19349227|    2|           1|                    0| false| false|  false|  false|   false|  1748738625|              false| Robotics/Automation|2025-06-01 07:43:30|     false|      false|              70.0|      true|\n",
      "|1l0c7lv|Humanoid Robots I...|                    |https://www.forbe...|/r/Futurology/com...|          forbes.com|     link|            Gari_305|    t2_65fa26pr| 1748738698| Futurology|    t5_2t7no|           r/Futurology|        public|             21575228|   21|           5|                    0| false| false|  false|  false|   false|  1748738714|              false|            Robotics|2025-06-01 07:44:58|     false|      false|              55.0|      true|\n",
      "|1l0c8d8|How NOT to Start ...|                    |https://nurselynx...|/r/technology/com...|nurselynxtech.blo...|     NULL| Careless_Package555|    t2_vorn1pyv| 1748738765| technology|    t5_2qh16|           r/technology|        public|             19349241|    1|           0|                    0| false| false|  false|  false|   false|  1748738780|              false|       Biotechnology|2025-06-01 07:46:05|     false|      false|58.333333333333336|      true|\n",
      "|1l0cc5m|A new type of X-p...|                    |https://phys.org/...|/r/Futurology/com...|            phys.org|     link|            Gari_305|    t2_65fa26pr| 1748739103| Futurology|    t5_2t7no|           r/Futurology|        public|             21575214|   23|           3|                    0| false| false|  false|  false|   false|  1748739121|              false|              Energy|2025-06-01 07:51:43|     false|      false| 36.36363636363637|      true|\n",
      "|1l0ckwv|The Gmail app wil...|                    |https://arstechni...|/r/technology/com...|     arstechnica.com|     link|      indig0sixalpha|       t2_ht9gq| 1748739903| technology|    t5_2qh16|           r/technology|        public|             19349314|    0|           0|                    0| false| false|  false|  false|   false|  1748739921|              false|Artificial Intell...|2025-06-01 08:05:03|     false|      false|             100.0|      true|\n",
      "|1l0cl9d|Business Insider ...|                    |https://www.sfgat...|/r/technology/com...|          sfgate.com|     link|  Informal-Rock-2681|  t2_14i3wvhp29| 1748739933| technology|    t5_2qh16|           r/technology|        public|             19349313|    0|           7|                    0| false| false|  false|  false|   false|  1748739951|              false|            Business|2025-06-01 08:05:33|     false|      false| 54.54545454545455|      true|\n",
      "|1l0cyaz|🌱 An Offering to...|Hello friends,\\n\\...|https://www.reddi...|/r/Futurology/com...|     self.Futurology|     self|    Clearblueskymind|    t2_abqdnc4d| 1748741098| Futurology|    t5_2t7no|           r/Futurology|        public|             21575172|    0|           2|                    0| false| false|  false|  false|   false|  1748741116|              false|                  AI|2025-06-01 08:24:58|     false|      false|46.666666666666664|     false|\n",
      "|1l0d141|why do headphone ...|                    |   http://google.com|/r/technology/com...|          google.com|     NULL|     Ok_Positive4828|  t2_10jrr0662p| 1748741353| technology|    t5_2qh16|           r/technology|        public|             19349448|    1|           0|                    0| false| false|  false|  false|   false|  1748741369|              false|            Hardware|2025-06-01 08:29:13|     false|      false|3.4482758620689653|      true|\n",
      "|1l0d37t|gwq: Git worktree...|Built gwq to mana...|https://github.co...|/r/programming/co...|          github.com|     link|              d-kuro|    t2_4psq2ncp| 1748741539|programming|     t5_2fwo|          r/programming|        public|              6776393|    0|           0|                    0| false| false|  false|  false|   false|  1748741553|              false|                NULL|2025-06-01 08:32:19|     false|      false| 9.090909090909092|      true|\n",
      "|1l0d5ze|Samsung’s Deal Wi...|           [removed]|                    |/r/technology/com...|                    |     NULL|           [deleted]|           NULL| 1748741790| technology|    t5_2qh16|           r/technology|        public|             19349508|    1|           0|                    0| false| false|  false|  false|   false|  1748741811|              false|            Hardware|2025-06-01 08:36:30|      true|       true|               0.0|     false|\n",
      "|1l0dsfl|   About MCP servers|Do anyone have tr...|https://www.reddi...|/r/datascience/co...|    self.datascience|     NULL|          atharv1525|   t2_xfs2qcly8| 1748743865|datascience|    t5_2sptq|          r/datascience|        public|              2674671|    2|           3|                    0| false| false|  false|  false|   false|  1748743880|              false|            Projects|2025-06-01 09:11:05|     false|      false|             100.0|     false|\n",
      "|1l0dxpc|The Simple Macroe...|Acemoglu’s latest...|https://codingism...|/r/programming/co...|codingismycraft.blog|     NULL|Greedy_Principle5345|    t2_sv7nduam| 1748744349|programming|     t5_2fwo|          r/programming|        public|              6776405|    0|           1|                    0| false| false|  false|  false|   false|  1748744371|              false|                NULL|2025-06-01 09:19:09|     false|      false|              75.0|      true|\n",
      "+-------+--------------------+--------------------+--------------------+--------------------+--------------------+---------+--------------------+---------------+-----------+-----------+------------+-----------------------+--------------+---------------------+-----+------------+---------------------+------+------+-------+-------+--------+------------+-------------------+--------------------+-------------------+----------+-----------+------------------+----------+\n",
      "only showing top 20 rows\n",
      "\n"
     ]
    }
   ],
   "source": [
    "df.show()"
   ]
  },
  {
   "cell_type": "code",
   "execution_count": 10,
   "id": "a287e84d-1125-4c39-aa27-c5d4fd6e7cb8",
   "metadata": {},
   "outputs": [],
   "source": [
    "df = submission.convertTimestamp(df)"
   ]
  },
  {
   "cell_type": "code",
   "execution_count": 11,
   "id": "50ddc435-8a8f-47bf-a1dc-d27aa4f40d58",
   "metadata": {},
   "outputs": [],
   "source": [
    "df = submission.markAuthorDeleted(df)"
   ]
  },
  {
   "cell_type": "code",
   "execution_count": 12,
   "id": "f7429190-7c91-4001-8c35-e5d808a77a5a",
   "metadata": {},
   "outputs": [],
   "source": [
    "df = submission.markBodyRemoved(df)"
   ]
  },
  {
   "cell_type": "code",
   "execution_count": 13,
   "id": "3c58fc82-4a8e-4d5b-9ced-30a6b4fc18cc",
   "metadata": {},
   "outputs": [],
   "source": [
    "df = submission.markSpamPost(df)"
   ]
  },
  {
   "cell_type": "code",
   "execution_count": null,
   "id": "2c8404cb-e539-42f1-96d1-f596571afce8",
   "metadata": {},
   "outputs": [],
   "source": []
  }
 ],
 "metadata": {
  "kernelspec": {
   "display_name": "Python 3",
   "language": "python",
   "name": "python3"
  },
  "language_info": {
   "codemirror_mode": {
    "name": "ipython",
    "version": 3
   },
   "file_extension": ".py",
   "mimetype": "text/x-python",
   "name": "python",
   "nbconvert_exporter": "python",
   "pygments_lexer": "ipython3",
   "version": "3.12.10"
  }
 },
 "nbformat": 4,
 "nbformat_minor": 5
}
