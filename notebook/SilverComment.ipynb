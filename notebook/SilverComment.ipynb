{
 "cells": [
  {
   "cell_type": "code",
   "execution_count": 63,
   "id": "360cbdb1-4c17-4361-8ebf-197b94ef2305",
   "metadata": {},
   "outputs": [],
   "source": [
    "from pyspark.sql import functions as F\n",
    "from pyspark.sql import SparkSession\n",
    "from pyspark.sql.types import *\n",
    "from pyspark.sql.functions import *"
   ]
  },
  {
   "cell_type": "code",
   "execution_count": 64,
   "id": "c97a59c7-1f12-4429-9666-b9082e0533a2",
   "metadata": {},
   "outputs": [],
   "source": [
    "class BaseTransformer:\n",
    "    def __init__(self, sparkSession):\n",
    "        self.spark = sparkSession\n",
    "    def readData(self, path, format=\"json\", schema=None):\n",
    "        reader=self.spark.read.format(format)\n",
    "        if schema:\n",
    "            reader.schema(schema)\n",
    "        df=reader.load(path)\n",
    "        return df\n",
    "    def writeData(self, df, path, format=\"json\", dbPath=None, checkpointPath=None, mode=\"append\", streaming=False):\n",
    "        if streaming:\n",
    "            writer = (\n",
    "                df.writeStream\n",
    "                .format(format)\n",
    "                .option(\"checkpointLocation\", checkpointPath)\n",
    "                .outputMode(mode)\n",
    "            )\n",
    "            query = writer.toTable(dbPath)\n",
    "            query.awaitTermination()\n",
    "        else:\n",
    "            (\n",
    "                df.write\n",
    "                .format(format)\n",
    "                .mode(mode)\n",
    "                .save(path)\n",
    "            )\n",
    "    def showShape(self, df):\n",
    "        return (len(df.columns), df.count())\n",
    "\n",
    "    def convertTimestamp(self, df, colName=\"created_utc\", newCol=\"createdDate\"):\n",
    "        return df.withColumn(\n",
    "            newCol,\n",
    "            F.from_unixtime(F.col(colName)).cast(\"timestamp\")\n",
    "        )\n",
    "\n",
    "    def markAuthorDeleted(self, df, authorCol=\"author\", nameAuthor=\"author_fullname\", newCol=\"accDeleted\"):\n",
    "        return df.withColumn(\n",
    "            newCol,\n",
    "            (F.col(authorCol) == \"[deleted]\") & F.col(nameAuthor).isNull()\n",
    "        )\n",
    "\n",
    "    def markBodyRemoved(self, df, body=\"selftext\", newCol=\"postDeleted\"):\n",
    "        return df.withColumn(\n",
    "            newCol,\n",
    "            F.col(body) == \"[removed]\"\n",
    "        )"
   ]
  },
  {
   "cell_type": "code",
   "execution_count": 65,
   "id": "abfebd81-cb5c-4f63-b229-9b974e8f29d7",
   "metadata": {},
   "outputs": [],
   "source": [
    "class CommentTransformer(BaseTransformer):\n",
    "    def __init__(self, sparkSession):\n",
    "        super().__init__(sparkSession)\n",
    "\n",
    "    def normalizeParentId(self, df, parentIdCol=\"parent_id\", newCol=\"parent_clean\"):\n",
    "        \"\"\"Removes prefixes like 't3_' and 't1_' from parent_id.\"\"\"\n",
    "        return df.withColumn(\n",
    "            newCol,\n",
    "            F.regexp_replace(F.col(parentIdCol), r\"^(t[13]_)\", \"\")\n",
    "        )\n",
    "\n",
    "    def normalizeLinkId(self, df, linkIdCol=\"link_id\", newCol=\"link_clean\"):\n",
    "        \"\"\"Removes the 't3_' prefix from link_id.\"\"\"\n",
    "        return df.withColumn(\n",
    "            newCol,\n",
    "            F.regexp_replace(F.col(linkIdCol), r\"^t3_\", \"\")\n",
    "        )\n",
    "\n",
    "    def markBodyRemoved(self, df, bodyCol=\"body\", newCol=\"is_removed_body\"):\n",
    "        \"\"\"Marks comments with a removed body.\"\"\"\n",
    "        return df.withColumn(\n",
    "            newCol,\n",
    "            F.col(bodyCol) == \"[removed]\"\n",
    "        )\n",
    "    \n",
    "    def markModComments(self, df, authorCol=\"author\", newColMod=\"is_mod_comment\", newColAutoMod=\"is_automod_comment\"):\n",
    "        \"\"\"Marks comments from Mod Team or AutoModerator.\"\"\"\n",
    "        df_with_mod = df.withColumn(\n",
    "            newColMod,\n",
    "            F.lower(F.col(authorCol)).like(\"%-modteam\")\n",
    "        )\n",
    "        return df_with_mod.withColumn(\n",
    "            newColAutoMod,\n",
    "            F.col(authorCol) == \"AutoModerator\"\n",
    "        )"
   ]
  },
  {
   "cell_type": "code",
   "execution_count": 66,
   "id": "8179d72d-172a-4a6c-92a5-36f9a9181246",
   "metadata": {},
   "outputs": [],
   "source": [
    "spark = SparkSession.builder.appName(\"CommentTransformer\").getOrCreate()"
   ]
  },
  {
   "cell_type": "code",
   "execution_count": 67,
   "id": "5a5baf75-4229-4e05-8425-be3d537c29fd",
   "metadata": {},
   "outputs": [],
   "source": [
    "comment = CommentTransformer(spark)"
   ]
  },
  {
   "cell_type": "code",
   "execution_count": 68,
   "id": "aa2cdc88-3988-4050-948e-045d4550881b",
   "metadata": {},
   "outputs": [],
   "source": [
    "path = \"../data/RC_reddit.jsonl\"\n",
    "rCommentBronzeSchema = StructType([\n",
    "    StructField(\"id\", StringType(), True),\n",
    "    StructField(\"body\", StringType(), True),\n",
    "    StructField(\"created_utc\", LongType(), True),\n",
    "    StructField(\"edited\", BooleanType(), True),\n",
    "    StructField(\"score\", IntegerType(), True),\n",
    "    StructField(\"author\", StringType(), True),\n",
    "    StructField(\"author_fullname\", StringType(), True),\n",
    "    StructField(\"author_created_utc\", LongType(), True),\n",
    "    StructField(\"parent_id\", StringType(), True),\n",
    "    StructField(\"link_id\", StringType(), True),\n",
    "    StructField(\"is_submitter\", BooleanType(), True),\n",
    "    StructField(\"permalink\", StringType(), True),\n",
    "    StructField(\"subreddit\", StringType(), True),\n",
    "    StructField(\"subreddit_id\", StringType(), True),\n",
    "    StructField(\"subreddit_name_prefixed\", StringType(), True),\n",
    "    StructField(\"subreddit_type\", StringType(), True),\n",
    "    StructField(\"total_awards_received\", IntegerType(), True),\n",
    "    StructField(\"controversiality\", IntegerType(), True),\n",
    "    StructField(\"retrieved_on\", LongType(), True),\n",
    "    StructField(\"stickied\", BooleanType(), True)\n",
    "])\n"
   ]
  },
  {
   "cell_type": "code",
   "execution_count": 69,
   "id": "3a0a1c84-3b0c-496d-ad65-3ea624f185bf",
   "metadata": {},
   "outputs": [],
   "source": [
    "df = comment.readData(path, schema=rCommentBronzeSchema)"
   ]
  },
  {
   "cell_type": "code",
   "execution_count": 70,
   "id": "5cab8eb7-413d-4549-bc33-5f780103ef1f",
   "metadata": {},
   "outputs": [
    {
     "data": {
      "text/plain": [
       "(20, 65661)"
      ]
     },
     "execution_count": 70,
     "metadata": {},
     "output_type": "execute_result"
    }
   ],
   "source": [
    "comment.showShape(df)"
   ]
  },
  {
   "cell_type": "code",
   "execution_count": 71,
   "id": "9ecb8ed0-ebcd-4ad7-b825-237c53e5ee5c",
   "metadata": {},
   "outputs": [
    {
     "name": "stdout",
     "output_type": "stream",
     "text": [
      "+-------+--------------------+-----------+------+-----+-----------------+---------------+------------------+----------+----------+------------+--------------------+-----------+------------+-----------------------+--------------+---------------------+----------------+------------+--------+\n",
      "|     id|                body|created_utc|edited|score|           author|author_fullname|author_created_utc| parent_id|   link_id|is_submitter|           permalink|  subreddit|subreddit_id|subreddit_name_prefixed|subreddit_type|total_awards_received|controversiality|retrieved_on|stickied|\n",
      "+-------+--------------------+-----------+------+-----+-----------------+---------------+------------------+----------+----------+------------+--------------------+-----------+------------+-----------------------+--------------+---------------------+----------------+------------+--------+\n",
      "|mvc2u2o|From the article\\...| 1748737579| false|    0|         Gari_305|    t2_65fa26pr|              NULL|t3_1l0buai|t3_1l0buai|        true|/r/Futurology/com...| Futurology|    t5_2t7no|           r/Futurology|        public|                    0|               0|  1748737598|   false|\n",
      "|mvc30mg|Submission statem...| 1748737649| false|    2|        katxwoods|    t2_6h6wd5oz|              NULL|t3_1l0bvir|t3_1l0bvir|        true|/r/Futurology/com...| Futurology|    t5_2t7no|           r/Futurology|        public|                    0|               1|  1748737664|   false|\n",
      "|mvc3ikx|           [removed]| 1748737838| false|    1|        [deleted]|           NULL|              NULL|t3_1l0bvir|t3_1l0bvir|       false|/r/Futurology/com...| Futurology|    t5_2t7no|           r/Futurology|        public|                    0|               0|  1748737856|   false|\n",
      "|mvc3lwv|           [removed]| 1748737873| false|    1|        [deleted]|           NULL|              NULL|t3_1l0bvr5|t3_1l0bvr5|       false|/r/Futurology/com...| Futurology|    t5_2t7no|           r/Futurology|        public|                    0|               0|  1748737891|   false|\n",
      "|mvc3uix|           [removed]| 1748737965| false|    1|        [deleted]|           NULL|              NULL|t3_1l0bz34|t3_1l0bz34|       false|/r/programming/co...|programming|     t5_2fwo|          r/programming|        public|                    0|               0|  1748737982|   false|\n",
      "|mvc4ct7|We also shouldn’t...| 1748738160| false|    3|         Black_RL|       t2_c0v9b|              NULL|t3_1l0bvir|t3_1l0bvir|       false|/r/Futurology/com...| Futurology|    t5_2t7no|           r/Futurology|        public|                    0|               1|  1748738173|   false|\n",
      "|mvc4f29|You have to be co...| 1748738184| false|   55|       S7ageNinja|    t2_245empqs|              NULL|t3_1l0bvir|t3_1l0bvir|       false|/r/Futurology/com...| Futurology|    t5_2t7no|           r/Futurology|        public|                    0|               0|  1748738205|   false|\n",
      "|mvc54or|I’d rather debate...| 1748738459| false|    4|      Lord_Genius|    t2_8ea9dgct|              NULL|t3_1l0bvr5|t3_1l0bvr5|       false|/r/Futurology/com...| Futurology|    t5_2t7no|           r/Futurology|        public|                    0|               1|  1748738475|   false|\n",
      "|mvc55pp|Also, every robot...| 1748738470| false|    4|             dE3L|       t2_4c4pg|              NULL|t3_1l0bvir|t3_1l0bvir|       false|/r/Futurology/com...| Futurology|    t5_2t7no|           r/Futurology|        public|                    0|               0|  1748738489|   false|\n",
      "|mvc5w76|From the article\\...| 1748738753| false|    2|         Gari_305|    t2_65fa26pr|              NULL|t3_1l0c7lv|t3_1l0c7lv|        true|/r/Futurology/com...| Futurology|    t5_2t7no|           r/Futurology|        public|                    0|               0|  1748738768|   false|\n",
      "|mvc64b9|Guess I'll be eat...| 1748738839| false|    8|       _Cromwell_|       t2_t5prr|              NULL|t3_1l0buai|t3_1l0buai|       false|/r/Futurology/com...| Futurology|    t5_2t7no|           r/Futurology|        public|                    0|               0|  1748738858|   false|\n",
      "|mvc6b6o|Inb4 the \"AI can ...| 1748738911| false|    1|Scary-Maximum7707|    t2_85qoabqi|              NULL|t3_1l0bvir|t3_1l0bvir|       false|/r/Futurology/com...| Futurology|    t5_2t7no|           r/Futurology|        public|                    0|               1|  1748738929|   false|\n",
      "|mvc6bd6|Sadly they wanted...| 1748738913| false|    1|  DangerousAd1731|    t2_q57ppgm9|              NULL|t3_1l0c6o2|t3_1l0c6o2|       false|/r/technology/com...| technology|    t5_2qh16|           r/technology|        public|                    0|               0|  1748738929|   false|\n",
      "|mvc6k68|We should not all...| 1748739005| false|   12|       shirk-work|       t2_x2as7|              NULL|t3_1l0bvir|t3_1l0bvir|       false|/r/Futurology/com...| Futurology|    t5_2t7no|           r/Futurology|        public|                    0|               0|  1748739021|   false|\n",
      "|mvc6ns4|           [removed]| 1748739043| false|    1|        [deleted]|           NULL|              NULL|t3_1l0bvir|t3_1l0bvir|       false|/r/Futurology/com...| Futurology|    t5_2t7no|           r/Futurology|        public|                    0|               0|  1748739064|   false|\n",
      "|mvc6nxc|Same as we should...| 1748739045| false|    5|       XeNoGeaR52|       t2_esok7|              NULL|t3_1l0bvir|t3_1l0bvir|       false|/r/Futurology/com...| Futurology|    t5_2t7no|           r/Futurology|        public|                    0|               0|  1748739064|   false|\n",
      "|mvc6w1u|In fact, the ques...| 1748739132| false|    2|    Businessmarck|    t2_8mw6j6fe|              NULL|t1_mvc54or|t3_1l0bvr5|        true|/r/Futurology/com...| Futurology|    t5_2t7no|           r/Futurology|        public|                    0|               1|  1748739151|   false|\n",
      "|mvc6wwa|From the article\\...| 1748739141| false|    5|         Gari_305|    t2_65fa26pr|              NULL|t3_1l0cc5m|t3_1l0cc5m|        true|/r/Futurology/com...| Futurology|    t5_2t7no|           r/Futurology|        public|                    0|               0|  1748739165|   false|\n",
      "|mvc7au4|Chinese firm Deep...| 1748739288| false|   -5|        QuentinUK|       t2_onbhp|              NULL|t1_mvc6k68|t3_1l0bvir|       false|/r/Futurology/com...| Futurology|    t5_2t7no|           r/Futurology|        public|                    0|               0|  1748739302|   false|\n",
      "|mvc7i3k|The following sub...| 1748739367| false|    1|    FuturologyBot|    t2_f7570aay|              NULL|t3_1l0buai|t3_1l0buai|       false|/r/Futurology/com...| Futurology|    t5_2t7no|           r/Futurology|        public|                    0|               0|  1748739387|    true|\n",
      "+-------+--------------------+-----------+------+-----+-----------------+---------------+------------------+----------+----------+------------+--------------------+-----------+------------+-----------------------+--------------+---------------------+----------------+------------+--------+\n",
      "only showing top 20 rows\n"
     ]
    }
   ],
   "source": [
    "df.show()"
   ]
  },
  {
   "cell_type": "code",
   "execution_count": 72,
   "id": "a287e84d-1125-4c39-aa27-c5d4fd6e7cb8",
   "metadata": {},
   "outputs": [],
   "source": [
    "df_silver = comment.convertTimestamp(df, \"created_utc\", \"created_ts\")\n",
    "df_silver = comment.convertTimestamp(df_silver, \"retrieved_on\", \"retrieved_ts\")\n"
   ]
  },
  {
   "cell_type": "code",
   "execution_count": 73,
   "id": "50ddc435-8a8f-47bf-a1dc-d27aa4f40d58",
   "metadata": {},
   "outputs": [],
   "source": [
    "df_silver = comment.normalizeParentId(df_silver)\n"
   ]
  },
  {
   "cell_type": "code",
   "execution_count": 74,
   "id": "f7429190-7c91-4001-8c35-e5d808a77a5a",
   "metadata": {},
   "outputs": [],
   "source": [
    "df_silver = comment.normalizeLinkId(df_silver)\n"
   ]
  },
  {
   "cell_type": "code",
   "execution_count": 75,
   "id": "3c58fc82-4a8e-4d5b-9ced-30a6b4fc18cc",
   "metadata": {},
   "outputs": [],
   "source": [
    "df_silver = comment.markAuthorDeleted(df_silver)\n"
   ]
  },
  {
   "cell_type": "code",
   "execution_count": 76,
   "id": "2c8404cb-e539-42f1-96d1-f596571afce8",
   "metadata": {},
   "outputs": [],
   "source": [
    "df_silver = comment.markBodyRemoved(df_silver)\n"
   ]
  },
  {
   "cell_type": "code",
   "execution_count": 77,
   "id": "62b3cf16",
   "metadata": {},
   "outputs": [],
   "source": [
    "df_silver = comment.markModComments(df_silver)\n"
   ]
  },
  {
   "cell_type": "code",
   "execution_count": 78,
   "id": "e022bb70",
   "metadata": {},
   "outputs": [
    {
     "name": "stdout",
     "output_type": "stream",
     "text": [
      "root\n",
      " |-- id: string (nullable = true)\n",
      " |-- body: string (nullable = true)\n",
      " |-- created_utc: long (nullable = true)\n",
      " |-- edited: boolean (nullable = true)\n",
      " |-- score: integer (nullable = true)\n",
      " |-- author: string (nullable = true)\n",
      " |-- author_fullname: string (nullable = true)\n",
      " |-- author_created_utc: long (nullable = true)\n",
      " |-- parent_id: string (nullable = true)\n",
      " |-- link_id: string (nullable = true)\n",
      " |-- is_submitter: boolean (nullable = true)\n",
      " |-- permalink: string (nullable = true)\n",
      " |-- subreddit: string (nullable = true)\n",
      " |-- subreddit_id: string (nullable = true)\n",
      " |-- subreddit_name_prefixed: string (nullable = true)\n",
      " |-- subreddit_type: string (nullable = true)\n",
      " |-- total_awards_received: integer (nullable = true)\n",
      " |-- controversiality: integer (nullable = true)\n",
      " |-- retrieved_on: long (nullable = true)\n",
      " |-- stickied: boolean (nullable = true)\n",
      " |-- created_ts: timestamp (nullable = true)\n",
      " |-- retrieved_ts: timestamp (nullable = true)\n",
      " |-- parent_clean: string (nullable = true)\n",
      " |-- link_clean: string (nullable = true)\n",
      " |-- accDeleted: boolean (nullable = true)\n",
      " |-- is_removed_body: boolean (nullable = true)\n",
      " |-- is_mod_comment: boolean (nullable = true)\n",
      " |-- is_automod_comment: boolean (nullable = true)\n",
      "\n",
      "+-------+----------------------------------------------------------------------------------------------------------------------------------------------------------------------------------------------------------------------------------------------------------------------------------------------------------------------------------------------------------------------------------------------------------------------------------------------------------------------------------------------------------------------------------------------------------------------------------------------------------------------------------------------------------------------------------------------------------------------------------------------------------------------------------------------------------------------------------------------------------------------------------------------------------------------------------------------------------------------------------------------------------------------------------------------------------------------------------------------------------------------------------------------------------------------------------------------------------------------------------------+-----------+------+-----+-----------------+---------------+------------------+----------+----------+------------+----------------------------------------------------------------------------------------+-----------+------------+-----------------------+--------------+---------------------+----------------+------------+--------+-------------------+-------------------+------------+----------+----------+---------------+--------------+------------------+\n",
      "|id     |body                                                                                                                                                                                                                                                                                                                                                                                                                                                                                                                                                                                                                                                                                                                                                                                                                                                                                                                                                                                                                                                                                                                                                                                                                                    |created_utc|edited|score|author           |author_fullname|author_created_utc|parent_id |link_id   |is_submitter|permalink                                                                               |subreddit  |subreddit_id|subreddit_name_prefixed|subreddit_type|total_awards_received|controversiality|retrieved_on|stickied|created_ts         |retrieved_ts       |parent_clean|link_clean|accDeleted|is_removed_body|is_mod_comment|is_automod_comment|\n",
      "+-------+----------------------------------------------------------------------------------------------------------------------------------------------------------------------------------------------------------------------------------------------------------------------------------------------------------------------------------------------------------------------------------------------------------------------------------------------------------------------------------------------------------------------------------------------------------------------------------------------------------------------------------------------------------------------------------------------------------------------------------------------------------------------------------------------------------------------------------------------------------------------------------------------------------------------------------------------------------------------------------------------------------------------------------------------------------------------------------------------------------------------------------------------------------------------------------------------------------------------------------------+-----------+------+-----+-----------------+---------------+------------------+----------+----------+------------+----------------------------------------------------------------------------------------+-----------+------------+-----------------------+--------------+---------------------+----------------+------------+--------+-------------------+-------------------+------------+----------+----------+---------------+--------------+------------------+\n",
      "|mvc2u2o|From the article\\n\\nWe are now entering the age of *AI agentics*. Not just tools anymore, but semi-autonomous systems that don’t just assist you—they can operate alongside you or even instead of you. We’re talking about AI that can take a Jira ticket and deliver a working feature. AI that monitors regulation updates, drafts compliance documents, and only pings you if your company’s about to do something bad enough to land you in a Senate hearing. Salesbots that can go out there and make you some serious money, without having to worry about HR violations. And when that kind of agent finally comes along—reliable, tireless, shockingly cheap—that’s when job [displacement](https://www.psychologytoday.com/us/basics/displacement) begins. And next thing you know, it’ll be what John Updike said in *Rabbit is Rich:* it happened gradually, then suddenly.                                                                                                                                                                                                                                                                                                                                                 |1748737579 |false |0    |Gari_305         |t2_65fa26pr    |NULL              |t3_1l0buai|t3_1l0buai|true        |/r/Futurology/comments/1l0buai/ai_hasnt_taken_your_job_yet_but_soon_might/mvc2u2o/      |Futurology |t5_2t7no    |r/Futurology           |public        |0                    |0               |1748737598  |false   |2025-06-01 07:26:19|2025-06-01 07:26:38|1l0buai     |1l0buai   |false     |false          |false         |false             |\n",
      "|mvc30mg|Submission statement:\\n\\n* Advanced AI systems may reach human-level intelligence within years, with potentially catastrophic consequences if developed irresponsibly.\\n* Current **secretive development by corporations and governments creates risks in alignment, misuse, and dangerous concentrations of power without public oversight**.\\n* The solution requires **mandatory disclosure of capabilities, independent safety audits, and whistleblower protections to ensure accountability.**\\n* Proactive measures are needed now to establish governance frameworks before AGI development becomes uncontrollable.                                                                                                                                                                                                                                                                                                                                                                                                                                                                                                                                                                                                            |1748737649 |false |2    |katxwoods        |t2_6h6wd5oz    |NULL              |t3_1l0bvir|t3_1l0bvir|true        |/r/Futurology/comments/1l0bvir/we_should_not_allow_powerful_ai_to_be_trained_in/mvc30mg/|Futurology |t5_2t7no    |r/Futurology           |public        |0                    |1               |1748737664  |false   |2025-06-01 07:27:29|2025-06-01 07:27:44|1l0bvir     |1l0bvir   |false     |false          |false         |false             |\n",
      "|mvc3ikx|[removed]                                                                                                                                                                                                                                                                                                                                                                                                                                                                                                                                                                                                                                                                                                                                                                                                                                                                                                                                                                                                                                                                                                                                                                                                                               |1748737838 |false |1    |[deleted]        |NULL           |NULL              |t3_1l0bvir|t3_1l0bvir|false       |/r/Futurology/comments/1l0bvir/we_should_not_allow_powerful_ai_to_be_trained_in/mvc3ikx/|Futurology |t5_2t7no    |r/Futurology           |public        |0                    |0               |1748737856  |false   |2025-06-01 07:30:38|2025-06-01 07:30:56|1l0bvir     |1l0bvir   |true      |true           |false         |false             |\n",
      "|mvc3lwv|[removed]                                                                                                                                                                                                                                                                                                                                                                                                                                                                                                                                                                                                                                                                                                                                                                                                                                                                                                                                                                                                                                                                                                                                                                                                                               |1748737873 |false |1    |[deleted]        |NULL           |NULL              |t3_1l0bvr5|t3_1l0bvr5|false       |/r/Futurology/comments/1l0bvr5/amish_and_ai/mvc3lwv/                                    |Futurology |t5_2t7no    |r/Futurology           |public        |0                    |0               |1748737891  |false   |2025-06-01 07:31:13|2025-06-01 07:31:31|1l0bvr5     |1l0bvr5   |true      |true           |false         |false             |\n",
      "|mvc3uix|[removed]                                                                                                                                                                                                                                                                                                                                                                                                                                                                                                                                                                                                                                                                                                                                                                                                                                                                                                                                                                                                                                                                                                                                                                                                                               |1748737965 |false |1    |[deleted]        |NULL           |NULL              |t3_1l0bz34|t3_1l0bz34|false       |/r/programming/comments/1l0bz34/anyone_here_to_share_their_ideas_were_answering/mvc3uix/|programming|t5_2fwo     |r/programming          |public        |0                    |0               |1748737982  |false   |2025-06-01 07:32:45|2025-06-01 07:33:02|1l0bz34     |1l0bz34   |true      |true           |false         |false             |\n",
      "|mvc4ct7|We also shouldn’t allow nuclear weapons, rape, murder, women oppression, torture, hunger, war, religion extremism, extermination of other species, pollution.\\n\\nYet here we are.                                                                                                                                                                                                                                                                                                                                                                                                                                                                                                                                                                                                                                                                                                                                                                                                                                                                                                                                                                                                                                                       |1748738160 |false |3    |Black_RL         |t2_c0v9b       |NULL              |t3_1l0bvir|t3_1l0bvir|false       |/r/Futurology/comments/1l0bvir/we_should_not_allow_powerful_ai_to_be_trained_in/mvc4ct7/|Futurology |t5_2t7no    |r/Futurology           |public        |0                    |1               |1748738173  |false   |2025-06-01 07:36:00|2025-06-01 07:36:13|1l0bvir     |1l0bvir   |false     |false          |false         |false             |\n",
      "|mvc4f29|You have to be completely delusional to believe anything is going to stop governments from developing tech in secret                                                                                                                                                                                                                                                                                                                                                                                                                                                                                                                                                                                                                                                                                                                                                                                                                                                                                                                                                                                                                                                                                                                    |1748738184 |false |55   |S7ageNinja       |t2_245empqs    |NULL              |t3_1l0bvir|t3_1l0bvir|false       |/r/Futurology/comments/1l0bvir/we_should_not_allow_powerful_ai_to_be_trained_in/mvc4f29/|Futurology |t5_2t7no    |r/Futurology           |public        |0                    |0               |1748738205  |false   |2025-06-01 07:36:24|2025-06-01 07:36:45|1l0bvir     |1l0bvir   |false     |false          |false         |false             |\n",
      "|mvc54or|I’d rather debate whether post-scarcity is truly obtainable as this would make elements of these concerns redundant. However, if obtainable, Amish and Amish-adjacent lifestyles would remain highly attractive for reasons more than sustenance and survival (and if freed from labour would be a good portion of how people use some of their free time, e.g. spend more time making food).                                                                                                                                                                                                                                                                                                                                                                                                                                                                                                                                                                                                                                                                                                                                                                                                                                           |1748738459 |false |4    |Lord_Genius      |t2_8ea9dgct    |NULL              |t3_1l0bvr5|t3_1l0bvr5|false       |/r/Futurology/comments/1l0bvr5/amish_and_ai/mvc54or/                                    |Futurology |t5_2t7no    |r/Futurology           |public        |0                    |1               |1748738475  |false   |2025-06-01 07:40:59|2025-06-01 07:41:15|1l0bvr5     |1l0bvr5   |false     |false          |false         |false             |\n",
      "|mvc55pp|Also, every robot needs a kill switch, and everyone knows how to use it.                                                                                                                                                                                                                                                                                                                                                                                                                                                                                                                                                                                                                                                                                                                                                                                                                                                                                                                                                                                                                                                                                                                                                                |1748738470 |false |4    |dE3L             |t2_4c4pg       |NULL              |t3_1l0bvir|t3_1l0bvir|false       |/r/Futurology/comments/1l0bvir/we_should_not_allow_powerful_ai_to_be_trained_in/mvc55pp/|Futurology |t5_2t7no    |r/Futurology           |public        |0                    |0               |1748738489  |false   |2025-06-01 07:41:10|2025-06-01 07:41:29|1l0bvir     |1l0bvir   |false     |false          |false         |false             |\n",
      "|mvc5w76|From the article\\n\\nThe struggle to be first in humanoid robots is the space race of our time, says Apptronik CEO Jeff Cardenas, who also says that major upgrades are coming to Apptronik’s appropriately-named Apollo robot in 2025.\\n\\n“It is just amazing to me to hear that there’s a hundred companies working on humanoid robots,” Cardenas told me recently on the TechFirst podcast. “Investors that I talked to two years ago that said humanoids don’t make sense. They didn’t want to pay attention to hardware. Now they have a humanoid thesis and hardware's the name of the game.\\n\\nApptronik closed a massive $403 million funding round early this year with blue-chip investors including tech titans like Google, massive automotive brand Mercedes-Benz, and venture heavyweights such as B Capital and Capital Factory. The company has also partnered with $30 billion global manufacturing giant Jabil to ramp up production capabilities and achieve mass scalability.\\n\\n“One of the things that we realized was that if we really are going to ramp to tens of thousands, hundreds of thousands of units, we need to really learn about how to do manufacturing right and do it at scale,\" Cardenas told me.|1748738753 |false |2    |Gari_305         |t2_65fa26pr    |NULL              |t3_1l0c7lv|t3_1l0c7lv|true        |/r/Futurology/comments/1l0c7lv/humanoid_robots_is_the_space_race_of_our_time/mvc5w76/   |Futurology |t5_2t7no    |r/Futurology           |public        |0                    |0               |1748738768  |false   |2025-06-01 07:45:53|2025-06-01 07:46:08|1l0c7lv     |1l0c7lv   |false     |false          |false         |false             |\n",
      "|mvc64b9|Guess I'll be eating my avocado toast while I still can afford it. 🤘                                                                                                                                                                                                                                                                                                                                                                                                                                                                                                                                                                                                                                                                                                                                                                                                                                                                                                                                                                                                                                                                                                                                                                   |1748738839 |false |8    |_Cromwell_       |t2_t5prr       |NULL              |t3_1l0buai|t3_1l0buai|false       |/r/Futurology/comments/1l0buai/ai_hasnt_taken_your_job_yet_but_soon_might/mvc64b9/      |Futurology |t5_2t7no    |r/Futurology           |public        |0                    |0               |1748738858  |false   |2025-06-01 07:47:19|2025-06-01 07:47:38|1l0buai     |1l0buai   |false     |false          |false         |false             |\n",
      "|mvc6b6o|Inb4 the \"AI can never be more than it is today\" crowd comes charging in. I swear if this was the late 1800's they would be arguing how we'l always use horse and carriage for transportation. \\n\\nOh already too late nevermind..                                                                                                                                                                                                                                                                                                                                                                                                                                                                                                                                                                                                                                                                                                                                                                                                                                                                                                                                                                                                      |1748738911 |false |1    |Scary-Maximum7707|t2_85qoabqi    |NULL              |t3_1l0bvir|t3_1l0bvir|false       |/r/Futurology/comments/1l0bvir/we_should_not_allow_powerful_ai_to_be_trained_in/mvc6b6o/|Futurology |t5_2t7no    |r/Futurology           |public        |0                    |1               |1748738929  |false   |2025-06-01 07:48:31|2025-06-01 07:48:49|1l0bvir     |1l0bvir   |false     |false          |false         |false             |\n",
      "|mvc6bd6|Sadly they wanted to make cookie robots, and they made boogie robots instead.                                                                                                                                                                                                                                                                                                                                                                                                                                                                                                                                                                                                                                                                                                                                                                                                                                                                                                                                                                                                                                                                                                                                                           |1748738913 |false |1    |DangerousAd1731  |t2_q57ppgm9    |NULL              |t3_1l0c6o2|t3_1l0c6o2|false       |/r/technology/comments/1l0c6o2/welding_robots_to_be_deployed_in_south_korea_by/mvc6bd6/ |technology |t5_2qh16    |r/technology           |public        |0                    |0               |1748738929  |false   |2025-06-01 07:48:33|2025-06-01 07:48:49|1l0c6o2     |1l0c6o2   |false     |false          |false         |false             |\n",
      "|mvc6k68|We should not allow powerful nuclear weapons to be developed in secret. \\n\\nHonestly we need to slow down the current AI arms race but I have the feeling China will feign slowing down only to catch up.                                                                                                                                                                                                                                                                                                                                                                                                                                                                                                                                                                                                                                                                                                                                                                                                                                                                                                                                                                                                                               |1748739005 |false |12   |shirk-work       |t2_x2as7       |NULL              |t3_1l0bvir|t3_1l0bvir|false       |/r/Futurology/comments/1l0bvir/we_should_not_allow_powerful_ai_to_be_trained_in/mvc6k68/|Futurology |t5_2t7no    |r/Futurology           |public        |0                    |0               |1748739021  |false   |2025-06-01 07:50:05|2025-06-01 07:50:21|1l0bvir     |1l0bvir   |false     |false          |false         |false             |\n",
      "|mvc6ns4|[removed]                                                                                                                                                                                                                                                                                                                                                                                                                                                                                                                                                                                                                                                                                                                                                                                                                                                                                                                                                                                                                                                                                                                                                                                                                               |1748739043 |false |1    |[deleted]        |NULL           |NULL              |t3_1l0bvir|t3_1l0bvir|false       |/r/Futurology/comments/1l0bvir/we_should_not_allow_powerful_ai_to_be_trained_in/mvc6ns4/|Futurology |t5_2t7no    |r/Futurology           |public        |0                    |0               |1748739064  |false   |2025-06-01 07:50:43|2025-06-01 07:51:04|1l0bvir     |1l0bvir   |true      |true           |false         |false             |\n",
      "|mvc6nxc|Same as we shouldn't allow approval by default. If we don't explicitly consent to train AI with our data, it should be denied.  \\nAll internet should be banned from AI training unless they allow it per site.  \\nNo music or art form should be used to train an AI unless the artist gives the explicit permission.\\n\\nBut sadly, we live in a world driven by greed                                                                                                                                                                                                                                                                                                                                                                                                                                                                                                                                                                                                                                                                                                                                                                                                                                                                 |1748739045 |false |5    |XeNoGeaR52       |t2_esok7       |NULL              |t3_1l0bvir|t3_1l0bvir|false       |/r/Futurology/comments/1l0bvir/we_should_not_allow_powerful_ai_to_be_trained_in/mvc6nxc/|Futurology |t5_2t7no    |r/Futurology           |public        |0                    |0               |1748739064  |false   |2025-06-01 07:50:45|2025-06-01 07:51:04|1l0bvir     |1l0bvir   |false     |false          |false         |false             |\n",
      "|mvc6w1u|In fact, the question of prosperity is not fundamental for the Amish. They have dissociated themselves from the rest of the population solely on religious and ideological grounds. Whether GenAI impacts most people negatively or positively, the Amish will represent an alternative as a break from the new prevailing norm - provided they are left aside and respected in their isolation, which is not necessarily guaranteed... \\n\\n\\n\\nIt is interesting to imagine the Amish gradually becoming a citadel, perhaps even imagining a state (Indiana? not too populated and that's where they represent the highest percentage today) where they become the majority and where they achieve a large part of their opposition to technology.                                                                                                                                                                                                                                                                                                                                                                                                                                                                                     |1748739132 |false |2    |Businessmarck    |t2_8mw6j6fe    |NULL              |t1_mvc54or|t3_1l0bvr5|true        |/r/Futurology/comments/1l0bvr5/amish_and_ai/mvc6w1u/                                    |Futurology |t5_2t7no    |r/Futurology           |public        |0                    |1               |1748739151  |false   |2025-06-01 07:52:12|2025-06-01 07:52:31|mvc54or     |1l0bvr5   |false     |false          |false         |false             |\n",
      "|mvc6wwa|From the article\\n\\nDespite their potential for the generation of large amounts of clean energy, future reactor tokamaks may face huge challenges in managing the intense heat produced by [fusion reactions](https://phys.org/tags/fusion+reactions/). Specifically, some of the confined plasma can interact with the walls of the reactors, damaging them and adversely impacting both their durability and performance.\\n\\nResearchers at the TCV tokamak experiment at École Polytechnique Fédérale de Lausanne (EPFL) recently discovered a new form of plasma radiation that could prevent tokamaks from overheating, allowing them to shed excess heat and thus potentially boosting their performance over time.\\n\\nThe new solution they proposed, which they dubbed X-point target radiator (XPTR), was introduced in a [paper](https://link.aps.org/doi/10.1103/PhysRevLett.134.185102) published in *Physical Review Letters*.\\n\\n\"Reducing divertor heat loads is a key challenge for future fusion power plants,\" Kenneth Lee, first author of the paper, told Phys.org.                                                                                                                                                 |1748739141 |false |5    |Gari_305         |t2_65fa26pr    |NULL              |t3_1l0cc5m|t3_1l0cc5m|true        |/r/Futurology/comments/1l0cc5m/a_new_type_of_xpoint_radiator_that_prevents/mvc6wwa/     |Futurology |t5_2t7no    |r/Futurology           |public        |0                    |0               |1748739165  |false   |2025-06-01 07:52:21|2025-06-01 07:52:45|1l0cc5m     |1l0cc5m   |false     |false          |false         |false             |\n",
      "|mvc7au4|Chinese firm DeepSeek is already ahead.                                                                                                                                                                                                                                                                                                                                                                                                                                                                                                                                                                                                                                                                                                                                                                                                                                                                                                                                                                                                                                                                                                                                                                                                 |1748739288 |false |-5   |QuentinUK        |t2_onbhp       |NULL              |t1_mvc6k68|t3_1l0bvir|false       |/r/Futurology/comments/1l0bvir/we_should_not_allow_powerful_ai_to_be_trained_in/mvc7au4/|Futurology |t5_2t7no    |r/Futurology           |public        |0                    |0               |1748739302  |false   |2025-06-01 07:54:48|2025-06-01 07:55:02|mvc6k68     |1l0bvir   |false     |false          |false         |false             |\n",
      "|mvc7i3k|The following submission statement was provided by /u/Gari_305:\\n\\n---\\n\\nFrom the article\\n\\nWe are now entering the age of *AI agentics*. Not just tools anymore, but semi-autonomous systems that don’t just assist you—they can operate alongside you or even instead of you. We’re talking about AI that can take a Jira ticket and deliver a working feature. AI that monitors regulation updates, drafts compliance documents, and only pings you if your company’s about to do something bad enough to land you in a Senate hearing. Salesbots that can go out there and make you some serious money, without having to worry about HR violations. And when that kind of agent finally comes along—reliable, tireless, shockingly cheap—that’s when job [displacement](https://www.psychologytoday.com/us/basics/displacement) begins. And next thing you know, it’ll be what John Updike said in *Rabbit is Rich:* it happened gradually, then suddenly.\\n\\n---\\n\\n Please reply to OP's comment here: https://old.reddit.com/r/Futurology/comments/1l0buai/ai_hasnt_taken_your_job_yet_but_soon_might/mvc2u2o/                                                                                                                |1748739367 |false |1    |FuturologyBot    |t2_f7570aay    |NULL              |t3_1l0buai|t3_1l0buai|false       |/r/Futurology/comments/1l0buai/ai_hasnt_taken_your_job_yet_but_soon_might/mvc7i3k/      |Futurology |t5_2t7no    |r/Futurology           |public        |0                    |0               |1748739387  |true    |2025-06-01 07:56:07|2025-06-01 07:56:27|1l0buai     |1l0buai   |false     |false          |false         |false             |\n",
      "+-------+----------------------------------------------------------------------------------------------------------------------------------------------------------------------------------------------------------------------------------------------------------------------------------------------------------------------------------------------------------------------------------------------------------------------------------------------------------------------------------------------------------------------------------------------------------------------------------------------------------------------------------------------------------------------------------------------------------------------------------------------------------------------------------------------------------------------------------------------------------------------------------------------------------------------------------------------------------------------------------------------------------------------------------------------------------------------------------------------------------------------------------------------------------------------------------------------------------------------------------------+-----------+------+-----+-----------------+---------------+------------------+----------+----------+------------+----------------------------------------------------------------------------------------+-----------+------------+-----------------------+--------------+---------------------+----------------+------------+--------+-------------------+-------------------+------------+----------+----------+---------------+--------------+------------------+\n",
      "only showing top 20 rows\n"
     ]
    }
   ],
   "source": [
    "df_silver.printSchema()\n",
    "df_silver.show(truncate=False)"
   ]
  },
  {
   "cell_type": "code",
   "execution_count": 79,
   "id": "1f91b1ae",
   "metadata": {},
   "outputs": [
    {
     "name": "stdout",
     "output_type": "stream",
     "text": [
      "+-------+--------------------+-----------+------+-----+-----------------+---------------+------------------+----------+----------+------------+--------------------+-----------+------------+-----------------------+--------------+---------------------+----------------+------------+--------+-------------------+-------------------+------------+----------+----------+---------------+--------------+------------------+\n",
      "|     id|                body|created_utc|edited|score|           author|author_fullname|author_created_utc| parent_id|   link_id|is_submitter|           permalink|  subreddit|subreddit_id|subreddit_name_prefixed|subreddit_type|total_awards_received|controversiality|retrieved_on|stickied|         created_ts|       retrieved_ts|parent_clean|link_clean|accDeleted|is_removed_body|is_mod_comment|is_automod_comment|\n",
      "+-------+--------------------+-----------+------+-----+-----------------+---------------+------------------+----------+----------+------------+--------------------+-----------+------------+-----------------------+--------------+---------------------+----------------+------------+--------+-------------------+-------------------+------------+----------+----------+---------------+--------------+------------------+\n",
      "|mvc2u2o|From the article\\...| 1748737579| false|    0|         Gari_305|    t2_65fa26pr|              NULL|t3_1l0buai|t3_1l0buai|        true|/r/Futurology/com...| Futurology|    t5_2t7no|           r/Futurology|        public|                    0|               0|  1748737598|   false|2025-06-01 07:26:19|2025-06-01 07:26:38|     1l0buai|   1l0buai|     false|          false|         false|             false|\n",
      "|mvc30mg|Submission statem...| 1748737649| false|    2|        katxwoods|    t2_6h6wd5oz|              NULL|t3_1l0bvir|t3_1l0bvir|        true|/r/Futurology/com...| Futurology|    t5_2t7no|           r/Futurology|        public|                    0|               1|  1748737664|   false|2025-06-01 07:27:29|2025-06-01 07:27:44|     1l0bvir|   1l0bvir|     false|          false|         false|             false|\n",
      "|mvc3ikx|           [removed]| 1748737838| false|    1|        [deleted]|           NULL|              NULL|t3_1l0bvir|t3_1l0bvir|       false|/r/Futurology/com...| Futurology|    t5_2t7no|           r/Futurology|        public|                    0|               0|  1748737856|   false|2025-06-01 07:30:38|2025-06-01 07:30:56|     1l0bvir|   1l0bvir|      true|           true|         false|             false|\n",
      "|mvc3lwv|           [removed]| 1748737873| false|    1|        [deleted]|           NULL|              NULL|t3_1l0bvr5|t3_1l0bvr5|       false|/r/Futurology/com...| Futurology|    t5_2t7no|           r/Futurology|        public|                    0|               0|  1748737891|   false|2025-06-01 07:31:13|2025-06-01 07:31:31|     1l0bvr5|   1l0bvr5|      true|           true|         false|             false|\n",
      "|mvc3uix|           [removed]| 1748737965| false|    1|        [deleted]|           NULL|              NULL|t3_1l0bz34|t3_1l0bz34|       false|/r/programming/co...|programming|     t5_2fwo|          r/programming|        public|                    0|               0|  1748737982|   false|2025-06-01 07:32:45|2025-06-01 07:33:02|     1l0bz34|   1l0bz34|      true|           true|         false|             false|\n",
      "|mvc4ct7|We also shouldn’t...| 1748738160| false|    3|         Black_RL|       t2_c0v9b|              NULL|t3_1l0bvir|t3_1l0bvir|       false|/r/Futurology/com...| Futurology|    t5_2t7no|           r/Futurology|        public|                    0|               1|  1748738173|   false|2025-06-01 07:36:00|2025-06-01 07:36:13|     1l0bvir|   1l0bvir|     false|          false|         false|             false|\n",
      "|mvc4f29|You have to be co...| 1748738184| false|   55|       S7ageNinja|    t2_245empqs|              NULL|t3_1l0bvir|t3_1l0bvir|       false|/r/Futurology/com...| Futurology|    t5_2t7no|           r/Futurology|        public|                    0|               0|  1748738205|   false|2025-06-01 07:36:24|2025-06-01 07:36:45|     1l0bvir|   1l0bvir|     false|          false|         false|             false|\n",
      "|mvc54or|I’d rather debate...| 1748738459| false|    4|      Lord_Genius|    t2_8ea9dgct|              NULL|t3_1l0bvr5|t3_1l0bvr5|       false|/r/Futurology/com...| Futurology|    t5_2t7no|           r/Futurology|        public|                    0|               1|  1748738475|   false|2025-06-01 07:40:59|2025-06-01 07:41:15|     1l0bvr5|   1l0bvr5|     false|          false|         false|             false|\n",
      "|mvc55pp|Also, every robot...| 1748738470| false|    4|             dE3L|       t2_4c4pg|              NULL|t3_1l0bvir|t3_1l0bvir|       false|/r/Futurology/com...| Futurology|    t5_2t7no|           r/Futurology|        public|                    0|               0|  1748738489|   false|2025-06-01 07:41:10|2025-06-01 07:41:29|     1l0bvir|   1l0bvir|     false|          false|         false|             false|\n",
      "|mvc5w76|From the article\\...| 1748738753| false|    2|         Gari_305|    t2_65fa26pr|              NULL|t3_1l0c7lv|t3_1l0c7lv|        true|/r/Futurology/com...| Futurology|    t5_2t7no|           r/Futurology|        public|                    0|               0|  1748738768|   false|2025-06-01 07:45:53|2025-06-01 07:46:08|     1l0c7lv|   1l0c7lv|     false|          false|         false|             false|\n",
      "|mvc64b9|Guess I'll be eat...| 1748738839| false|    8|       _Cromwell_|       t2_t5prr|              NULL|t3_1l0buai|t3_1l0buai|       false|/r/Futurology/com...| Futurology|    t5_2t7no|           r/Futurology|        public|                    0|               0|  1748738858|   false|2025-06-01 07:47:19|2025-06-01 07:47:38|     1l0buai|   1l0buai|     false|          false|         false|             false|\n",
      "|mvc6b6o|Inb4 the \"AI can ...| 1748738911| false|    1|Scary-Maximum7707|    t2_85qoabqi|              NULL|t3_1l0bvir|t3_1l0bvir|       false|/r/Futurology/com...| Futurology|    t5_2t7no|           r/Futurology|        public|                    0|               1|  1748738929|   false|2025-06-01 07:48:31|2025-06-01 07:48:49|     1l0bvir|   1l0bvir|     false|          false|         false|             false|\n",
      "|mvc6bd6|Sadly they wanted...| 1748738913| false|    1|  DangerousAd1731|    t2_q57ppgm9|              NULL|t3_1l0c6o2|t3_1l0c6o2|       false|/r/technology/com...| technology|    t5_2qh16|           r/technology|        public|                    0|               0|  1748738929|   false|2025-06-01 07:48:33|2025-06-01 07:48:49|     1l0c6o2|   1l0c6o2|     false|          false|         false|             false|\n",
      "|mvc6k68|We should not all...| 1748739005| false|   12|       shirk-work|       t2_x2as7|              NULL|t3_1l0bvir|t3_1l0bvir|       false|/r/Futurology/com...| Futurology|    t5_2t7no|           r/Futurology|        public|                    0|               0|  1748739021|   false|2025-06-01 07:50:05|2025-06-01 07:50:21|     1l0bvir|   1l0bvir|     false|          false|         false|             false|\n",
      "|mvc6ns4|           [removed]| 1748739043| false|    1|        [deleted]|           NULL|              NULL|t3_1l0bvir|t3_1l0bvir|       false|/r/Futurology/com...| Futurology|    t5_2t7no|           r/Futurology|        public|                    0|               0|  1748739064|   false|2025-06-01 07:50:43|2025-06-01 07:51:04|     1l0bvir|   1l0bvir|      true|           true|         false|             false|\n",
      "|mvc6nxc|Same as we should...| 1748739045| false|    5|       XeNoGeaR52|       t2_esok7|              NULL|t3_1l0bvir|t3_1l0bvir|       false|/r/Futurology/com...| Futurology|    t5_2t7no|           r/Futurology|        public|                    0|               0|  1748739064|   false|2025-06-01 07:50:45|2025-06-01 07:51:04|     1l0bvir|   1l0bvir|     false|          false|         false|             false|\n",
      "|mvc6w1u|In fact, the ques...| 1748739132| false|    2|    Businessmarck|    t2_8mw6j6fe|              NULL|t1_mvc54or|t3_1l0bvr5|        true|/r/Futurology/com...| Futurology|    t5_2t7no|           r/Futurology|        public|                    0|               1|  1748739151|   false|2025-06-01 07:52:12|2025-06-01 07:52:31|     mvc54or|   1l0bvr5|     false|          false|         false|             false|\n",
      "|mvc6wwa|From the article\\...| 1748739141| false|    5|         Gari_305|    t2_65fa26pr|              NULL|t3_1l0cc5m|t3_1l0cc5m|        true|/r/Futurology/com...| Futurology|    t5_2t7no|           r/Futurology|        public|                    0|               0|  1748739165|   false|2025-06-01 07:52:21|2025-06-01 07:52:45|     1l0cc5m|   1l0cc5m|     false|          false|         false|             false|\n",
      "|mvc7au4|Chinese firm Deep...| 1748739288| false|   -5|        QuentinUK|       t2_onbhp|              NULL|t1_mvc6k68|t3_1l0bvir|       false|/r/Futurology/com...| Futurology|    t5_2t7no|           r/Futurology|        public|                    0|               0|  1748739302|   false|2025-06-01 07:54:48|2025-06-01 07:55:02|     mvc6k68|   1l0bvir|     false|          false|         false|             false|\n",
      "|mvc7i3k|The following sub...| 1748739367| false|    1|    FuturologyBot|    t2_f7570aay|              NULL|t3_1l0buai|t3_1l0buai|       false|/r/Futurology/com...| Futurology|    t5_2t7no|           r/Futurology|        public|                    0|               0|  1748739387|    true|2025-06-01 07:56:07|2025-06-01 07:56:27|     1l0buai|   1l0buai|     false|          false|         false|             false|\n",
      "+-------+--------------------+-----------+------+-----+-----------------+---------------+------------------+----------+----------+------------+--------------------+-----------+------------+-----------------------+--------------+---------------------+----------------+------------+--------+-------------------+-------------------+------------+----------+----------+---------------+--------------+------------------+\n",
      "only showing top 20 rows\n"
     ]
    }
   ],
   "source": [
    "df_silver.show()"
   ]
  },
  {
   "cell_type": "code",
   "execution_count": 80,
   "id": "11a75f24",
   "metadata": {},
   "outputs": [
    {
     "name": "stdout",
     "output_type": "stream",
     "text": [
      "+-------+--------------------+-----------+------+-----+-------------+---------------+------------------+----------+----------+------------+--------------------+-----------+------------+-----------------------+--------------+---------------------+----------------+------------+--------+-------------------+-------------------+------------+----------+----------+---------------+--------------+------------------+\n",
      "|     id|                body|created_utc|edited|score|       author|author_fullname|author_created_utc| parent_id|   link_id|is_submitter|           permalink|  subreddit|subreddit_id|subreddit_name_prefixed|subreddit_type|total_awards_received|controversiality|retrieved_on|stickied|         created_ts|       retrieved_ts|parent_clean|link_clean|accDeleted|is_removed_body|is_mod_comment|is_automod_comment|\n",
      "+-------+--------------------+-----------+------+-----+-------------+---------------+------------------+----------+----------+------------+--------------------+-----------+------------+-----------------------+--------------+---------------------+----------------+------------+--------+-------------------+-------------------+------------+----------+----------+---------------+--------------+------------------+\n",
      "|mvdg8uj|Unfortunately, th...| 1748758777| false|    1|AutoModerator|       t2_6l4z3|              NULL|t3_1l0i2v1|t3_1l0i2v1|       false|/r/technology/com...| technology|    t5_2qh16|           r/technology|        public|                    0|               0|  1748758791|   false|2025-06-01 13:19:37|2025-06-01 13:19:51|     1l0i2v1|   1l0i2v1|     false|          false|         false|              true|\n",
      "|mvehlwx|Unfortunately, th...| 1748779768| false|    1|AutoModerator|       t2_6l4z3|              NULL|t3_1l0netw|t3_1l0netw|       false|/r/technology/com...| technology|    t5_2qh16|           r/technology|        public|                    0|               0|  1748779787|   false|2025-06-01 19:09:28|2025-06-01 19:09:47|     1l0netw|   1l0netw|     false|          false|         false|              true|\n",
      "|mvek3s0|Unfortunately, th...| 1748780830| false|    1|AutoModerator|       t2_6l4z3|              NULL|t3_1l0nqsv|t3_1l0nqsv|       false|/r/technology/com...| technology|    t5_2qh16|           r/technology|        public|                    0|               0|  1748780843|   false|2025-06-01 19:27:10|2025-06-01 19:27:23|     1l0nqsv|   1l0nqsv|     false|          false|         false|              true|\n",
      "|mvfj7l3|Unfortunately, th...| 1748792487| false|    1|AutoModerator|       t2_6l4z3|              NULL|t1_mvfj7j0|t3_1l0nu7o|       false|/r/technology/com...| technology|    t5_2qh16|           r/technology|        public|                    0|               0|  1748792505|   false|2025-06-01 22:41:27|2025-06-01 22:41:45|     mvfj7j0|   1l0nu7o|     false|          false|         false|              true|\n",
      "|mvfpx07|Unfortunately, th...| 1748794513| false|    1|AutoModerator|       t2_6l4z3|              NULL|t3_1l0su2r|t3_1l0su2r|       false|/r/technology/com...| technology|    t5_2qh16|           r/technology|        public|                    0|               0|  1748794528|   false|2025-06-01 23:15:13|2025-06-01 23:15:28|     1l0su2r|   1l0su2r|     false|          false|         false|              true|\n",
      "|mvfxl9v|Text posts are no...| 1748796834| false|    1|AutoModerator|       t2_6l4z3|              NULL|t3_1l0trrr|t3_1l0trrr|       false|/r/programming/co...|programming|     t5_2fwo|          r/programming|        public|                    0|               0|  1748796852|   false|2025-06-01 23:53:54|2025-06-01 23:54:12|     1l0trrr|   1l0trrr|     false|          false|         false|              true|\n",
      "|mvfxw3t|Text posts are no...| 1748796923| false|    1|AutoModerator|       t2_6l4z3|              NULL|t3_1l0tt32|t3_1l0tt32|       false|/r/programming/co...|programming|     t5_2fwo|          r/programming|        public|                    0|               0|  1748796942|   false|2025-06-01 23:55:23|2025-06-01 23:55:42|     1l0tt32|   1l0tt32|     false|          false|         false|              true|\n",
      "|mvg3q35|Your post has bee...| 1748798637| false|    1|AutoModerator|       t2_6l4z3|              NULL|t3_1l0uicz|t3_1l0uicz|       false|/r/datascience/co...|datascience|    t5_2sptq|          r/datascience|        public|                    0|               0|  1748798651|   false|2025-06-02 00:23:57|2025-06-02 00:24:11|     1l0uicz|   1l0uicz|     false|          false|         false|              true|\n",
      "|mvgieir|Thank you for you...| 1748802942| false|    1|AutoModerator|       t2_6l4z3|              NULL|t3_1l0w9ty|t3_1l0w9ty|       false|/r/technology/com...| technology|    t5_2qh16|           r/technology|        public|                    0|               0|  1748802960|   false|2025-06-02 01:35:42|2025-06-02 01:36:00|     1l0w9ty|   1l0w9ty|     false|          false|         false|              true|\n",
      "|mvh1otx|Thank you for you...| 1748808812| false|    1|AutoModerator|       t2_6l4z3|              NULL|t3_1l0ympz|t3_1l0ympz|       false|/r/technology/com...| technology|    t5_2qh16|           r/technology|        public|                    0|               0|  1748808832|   false|2025-06-02 03:13:32|2025-06-02 03:13:52|     1l0ympz|   1l0ympz|     false|          false|         false|              true|\n",
      "|mvh8iug|Unfortunately, th...| 1748810902| false|    1|AutoModerator|       t2_6l4z3|              NULL|t3_1l0zh38|t3_1l0zh38|       false|/r/technology/com...| technology|    t5_2qh16|           r/technology|        public|                    0|               0|  1748810921|   false|2025-06-02 03:48:22|2025-06-02 03:48:41|     1l0zh38|   1l0zh38|     false|          false|         false|              true|\n",
      "|mvh8w2l|Unfortunately, th...| 1748811016| false|    1|AutoModerator|       t2_6l4z3|              NULL|t3_1l0zipc|t3_1l0zipc|       false|/r/technology/com...| technology|    t5_2qh16|           r/technology|        public|                    0|               0|  1748811035|   false|2025-06-02 03:50:16|2025-06-02 03:50:35|     1l0zipc|   1l0zipc|     false|          false|         false|              true|\n",
      "|mvhahvi|Unfortunately, th...| 1748811517| false|    1|AutoModerator|       t2_6l4z3|              NULL|t3_1l0zprt|t3_1l0zprt|       false|/r/technology/com...| technology|    t5_2qh16|           r/technology|        public|                    0|               0|  1748811534|   false|2025-06-02 03:58:37|2025-06-02 03:58:54|     1l0zprt|   1l0zprt|     false|          false|         false|              true|\n",
      "|mvhbswg|Your post has bee...| 1748811932| false|    1|AutoModerator|       t2_6l4z3|              NULL|t3_1l0zvzb|t3_1l0zvzb|       false|/r/datascience/co...|datascience|    t5_2sptq|          r/datascience|        public|                    0|               0|  1748811977|   false|2025-06-02 04:05:32|2025-06-02 04:06:17|     1l0zvzb|   1l0zvzb|     false|          false|         false|              true|\n",
      "|mvhgohk|Unfortunately, th...| 1748813513| false|    1|AutoModerator|       t2_6l4z3|              NULL|t3_1l10j3u|t3_1l10j3u|       false|/r/technology/com...| technology|    t5_2qh16|           r/technology|        public|                    0|               0|  1748813531|   false|2025-06-02 04:31:53|2025-06-02 04:32:11|     1l10j3u|   1l10j3u|     false|          false|         false|              true|\n",
      "|mvhibbb|This appears to b...| 1748814046| false|    1|AutoModerator|       t2_6l4z3|              NULL|t3_1l10qpo|t3_1l10qpo|       false|/r/Futurology/com...| Futurology|    t5_2t7no|           r/Futurology|        public|                    0|               0|  1748814062|    true|2025-06-02 04:40:46|2025-06-02 04:41:02|     1l10qpo|   1l10qpo|     false|          false|         false|              true|\n",
      "|mvhl7rb|Your post has bee...| 1748815000| false|    1|AutoModerator|       t2_6l4z3|              NULL|t3_1l113xd|t3_1l113xd|       false|/r/datascience/co...|datascience|    t5_2sptq|          r/datascience|        public|                    0|               0|  1748815014|   false|2025-06-02 04:56:40|2025-06-02 04:56:54|     1l113xd|   1l113xd|     false|          false|         false|              true|\n",
      "|mvhqtpv|Text posts are no...| 1748816933| false|    1|AutoModerator|       t2_6l4z3|              NULL|t3_1l11uho|t3_1l11uho|       false|/r/programming/co...|programming|     t5_2fwo|          r/programming|        public|                    0|               0|  1748816951|   false|2025-06-02 05:28:53|2025-06-02 05:29:11|     1l11uho|   1l11uho|     false|          false|         false|              true|\n",
      "|mvj2rly|Hello! **Please r...| 1748834843| false|    1|AutoModerator|       t2_6l4z3|              NULL|t3_1l17wge|t3_1l17wge|       false|/r/technology/com...| technology|    t5_2qh16|           r/technology|        public|                    0|               0|  1748834860|   false|2025-06-02 10:27:23|2025-06-02 10:27:40|     1l17wge|   1l17wge|     false|          false|         false|              true|\n",
      "|mvj3hg0|Unfortunately, th...| 1748835154| false|    1|AutoModerator|       t2_6l4z3|              NULL|t3_1l17zwj|t3_1l17zwj|       false|/r/technology/com...| technology|    t5_2qh16|           r/technology|        public|                    0|               0|  1748835174|   false|2025-06-02 10:32:34|2025-06-02 10:32:54|     1l17zwj|   1l17zwj|     false|          false|         false|              true|\n",
      "+-------+--------------------+-----------+------+-----+-------------+---------------+------------------+----------+----------+------------+--------------------+-----------+------------+-----------------------+--------------+---------------------+----------------+------------+--------+-------------------+-------------------+------------+----------+----------+---------------+--------------+------------------+\n",
      "only showing top 20 rows\n"
     ]
    }
   ],
   "source": [
    "df_silver.filter(df_silver.is_automod_comment == True).show()"
   ]
  },
  {
   "cell_type": "code",
   "execution_count": 81,
   "id": "3cf6b537",
   "metadata": {},
   "outputs": [
    {
     "data": {
      "text/plain": [
       "106"
      ]
     },
     "execution_count": 81,
     "metadata": {},
     "output_type": "execute_result"
    }
   ],
   "source": [
    "df_silver.filter(df_silver.is_mod_comment == True).count()"
   ]
  },
  {
   "cell_type": "code",
   "execution_count": 82,
   "id": "4eb752ea",
   "metadata": {},
   "outputs": [
    {
     "data": {
      "text/plain": [
       "152"
      ]
     },
     "execution_count": 82,
     "metadata": {},
     "output_type": "execute_result"
    }
   ],
   "source": [
    "df.filter(df.author == 'AutoModerator').count()"
   ]
  },
  {
   "cell_type": "code",
   "execution_count": null,
   "id": "fea2e9dd",
   "metadata": {},
   "outputs": [],
   "source": []
  }
 ],
 "metadata": {
  "kernelspec": {
   "display_name": "3.12.8",
   "language": "python",
   "name": "python3"
  },
  "language_info": {
   "codemirror_mode": {
    "name": "ipython",
    "version": 3
   },
   "file_extension": ".py",
   "mimetype": "text/x-python",
   "name": "python",
   "nbconvert_exporter": "python",
   "pygments_lexer": "ipython3",
   "version": "3.12.8"
  }
 },
 "nbformat": 4,
 "nbformat_minor": 5
}
