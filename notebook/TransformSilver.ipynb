{
 "cells": [
  {
   "cell_type": "code",
   "execution_count": 1,
   "id": "c5374a64-fb3c-48a7-86a0-5d6868284959",
   "metadata": {},
   "outputs": [],
   "source": [
    "from pyspark.sql.types import *\n",
    "from pyspark.sql import SparkSession\n",
    "from pyspark.sql.functions import *"
   ]
  },
  {
   "cell_type": "code",
   "execution_count": 2,
   "id": "9299d0d3-e53d-4fda-91da-d88e8d250e55",
   "metadata": {},
   "outputs": [
    {
     "name": "stderr",
     "output_type": "stream",
     "text": [
      "25/08/09 16:27:04 WARN Utils: Your hostname, Acer resolves to a loopback address: 127.0.1.1; using 192.168.1.6 instead (on interface wlp4s0)\n",
      "25/08/09 16:27:04 WARN Utils: Set SPARK_LOCAL_IP if you need to bind to another address\n",
      "Setting default log level to \"WARN\".\n",
      "To adjust logging level use sc.setLogLevel(newLevel). For SparkR, use setLogLevel(newLevel).\n",
      "25/08/09 16:27:05 WARN NativeCodeLoader: Unable to load native-hadoop library for your platform... using builtin-java classes where applicable\n"
     ]
    }
   ],
   "source": [
    "spark = SparkSession.builder.appName(\"Transform\").getOrCreate()\n"
   ]
  },
  {
   "cell_type": "code",
   "execution_count": 3,
   "id": "c67afba7-46ff-40ab-b6fa-c5d0bef9517d",
   "metadata": {},
   "outputs": [],
   "source": [
    "\n",
    "rSubmissionBronzeSchema = StructType([\n",
    "    StructField(\"id\", StringType(), True),\n",
    "    StructField(\"title\", StringType(), True),\n",
    "    StructField(\"selftext\", StringType(), True),\n",
    "    StructField(\"url\", StringType(), True),\n",
    "    StructField(\"permalink\", StringType(), True),\n",
    "    StructField(\"domain\", StringType(), True),\n",
    "    StructField(\"post_hint\", StringType(), True),\n",
    "    StructField(\"author\", StringType(), True),\n",
    "    StructField(\"author_fullname\", StringType(), True),\n",
    "    StructField(\"created_utc\", LongType(), True),\n",
    "    StructField(\"subreddit\", StringType(), True),\n",
    "    StructField(\"subreddit_id\", StringType(), True),\n",
    "    StructField(\"subreddit_name_prefixed\", StringType(), True),\n",
    "    StructField(\"subreddit_type\", StringType(), True),\n",
    "    StructField(\"subreddit_subscribers\", IntegerType(), True),\n",
    "    StructField(\"score\", IntegerType(), True),\n",
    "    StructField(\"num_comments\", IntegerType(), True),\n",
    "    StructField(\"total_awards_received\", IntegerType(), True),\n",
    "    StructField(\"edited\", BooleanType(), True),\n",
    "    StructField(\"locked\", BooleanType(), True),\n",
    "    StructField(\"spoiler\", BooleanType(), True),\n",
    "    StructField(\"over_18\", BooleanType(), True),\n",
    "    StructField(\"stickied\", BooleanType(), True),   \n",
    "    StructField(\"retrieved_on\", LongType(), True),\n",
    "    StructField(\"is_original_content\", BooleanType(), True),\n",
    "    StructField(\"link_flair_text\", StringType(), True)\n",
    "])\n"
   ]
  },
  {
   "cell_type": "code",
   "execution_count": 4,
   "id": "e02b4599-9b9a-4cc5-98d1-123541cccb16",
   "metadata": {},
   "outputs": [],
   "source": [
    "rCommentBronzeSchema = StructType([\n",
    "    StructField(\"id\", StringType(), True),\n",
    "    StructField(\"body\", StringType(), True),\n",
    "    StructField(\"created_utc\", LongType(), True),\n",
    "    StructField(\"edited\", BooleanType(), True),\n",
    "    StructField(\"score\", IntegerType(), True),\n",
    "    StructField(\"author\", StringType(), True),\n",
    "    StructField(\"author_fullname\", StringType(), True),\n",
    "    StructField(\"author_created_utc\", LongType(), True),\n",
    "    StructField(\"parent_id\", StringType(), True),\n",
    "    StructField(\"link_id\", StringType(), True),\n",
    "    StructField(\"is_submitter\", BooleanType(), True),\n",
    "    StructField(\"permalink\", StringType(), True),\n",
    "    StructField(\"subreddit\", StringType(), True),\n",
    "    StructField(\"subreddit_id\", StringType(), True),\n",
    "    StructField(\"subreddit_name_prefixed\", StringType(), True),\n",
    "    StructField(\"subreddit_type\", StringType(), True),\n",
    "    StructField(\"total_awards_received\", IntegerType(), True),\n",
    "    StructField(\"controversiality\", IntegerType(), True),\n",
    "    StructField(\"retrieved_on\", LongType(), True),\n",
    "    StructField(\"stickied\", BooleanType(), True)\n",
    "])\n"
   ]
  },
  {
   "cell_type": "code",
   "execution_count": 5,
   "id": "b91b57d0-124a-40e7-8920-5995deac74ce",
   "metadata": {},
   "outputs": [],
   "source": [
    "# df_sub = spark.read.format(\"json\").schema(rSubmissionBronzeSchema)\\\n",
    "# .load(\"submission.jsonl\")\n",
    "df_sub = spark.read.format(\"json\").schema(rSubmissionBronzeSchema)\\\n",
    ".load(\"../data/RS_reddit.jsonl\")\n",
    "\n"
   ]
  },
  {
   "cell_type": "code",
   "execution_count": 6,
   "id": "88f5562b-e7ef-430b-bcfc-039cb5678c3f",
   "metadata": {},
   "outputs": [],
   "source": [
    "df_cmt = spark.read.format(\"json\").schema(rCommentBronzeSchema)\\\n",
    ".load(\"../data/RC_reddit.jsonl\")\n"
   ]
  },
  {
   "cell_type": "code",
   "execution_count": 7,
   "id": "ca1ccdab-a6dd-4800-ade2-fff464cfc056",
   "metadata": {},
   "outputs": [
    {
     "name": "stderr",
     "output_type": "stream",
     "text": [
      "25/08/09 16:27:33 WARN SparkStringUtils: Truncated the string representation of a plan since it was too large. This behavior can be adjusted by setting 'spark.sql.debug.maxToStringFields'.\n"
     ]
    },
    {
     "name": "stdout",
     "output_type": "stream",
     "text": [
      "+-------+--------------------+---------+--------------------+--------------------+-------------------+---------+---------+---------------+-----------+----------+------------+-----------------------+--------------+---------------------+-----+------------+---------------------+------+------+-------+-------+--------+------------+-------------------+---------------+\n",
      "|     id|               title| selftext|                 url|           permalink|             domain|post_hint|   author|author_fullname|created_utc| subreddit|subreddit_id|subreddit_name_prefixed|subreddit_type|subreddit_subscribers|score|num_comments|total_awards_received|edited|locked|spoiler|over_18|stickied|retrieved_on|is_original_content|link_flair_text|\n",
      "+-------+--------------------+---------+--------------------+--------------------+-------------------+---------+---------+---------------+-----------+----------+------------+-----------------------+--------------+---------------------+-----+------------+---------------------+------+------+-------+-------+--------+------------+-------------------+---------------+\n",
      "|1l0bhr6|            Someone?|[removed]|                    |/r/technology/com...|                   |     NULL|[deleted]|           NULL| 1748736445|technology|    t5_2qh16|           r/technology|        public|             19349025|    1|           0|                    0| false| false|  false|  false|   false|  1748736462|              false|       Business|\n",
      "|1l0buai|AI Hasn’t Taken Y...|         |https://www.psych...|/r/Futurology/com...|psychologytoday.com|     link| Gari_305|    t2_65fa26pr| 1748737533|Futurology|    t5_2t7no|           r/Futurology|        public|             21575272|    0|           9|                    0| false| false|  false|  false|   false|  1748737548|              false|             AI|\n",
      "+-------+--------------------+---------+--------------------+--------------------+-------------------+---------+---------+---------------+-----------+----------+------------+-----------------------+--------------+---------------------+-----+------------+---------------------+------+------+-------+-------+--------+------------+-------------------+---------------+\n",
      "only showing top 2 rows\n",
      "\n"
     ]
    }
   ],
   "source": [
    "df_sub.show(2)"
   ]
  },
  {
   "cell_type": "code",
   "execution_count": 8,
   "id": "26920b48-7253-48b4-aeb3-19ef25715d82",
   "metadata": {},
   "outputs": [
    {
     "name": "stdout",
     "output_type": "stream",
     "text": [
      "+-------+--------------------+-----------+------+-----+---------+---------------+------------------+----------+----------+------------+--------------------+----------+------------+-----------------------+--------------+---------------------+----------------+------------+--------+\n",
      "|     id|                body|created_utc|edited|score|   author|author_fullname|author_created_utc| parent_id|   link_id|is_submitter|           permalink| subreddit|subreddit_id|subreddit_name_prefixed|subreddit_type|total_awards_received|controversiality|retrieved_on|stickied|\n",
      "+-------+--------------------+-----------+------+-----+---------+---------------+------------------+----------+----------+------------+--------------------+----------+------------+-----------------------+--------------+---------------------+----------------+------------+--------+\n",
      "|mvc2u2o|From the article\\...| 1748737579| false|    0| Gari_305|    t2_65fa26pr|              NULL|t3_1l0buai|t3_1l0buai|        true|/r/Futurology/com...|Futurology|    t5_2t7no|           r/Futurology|        public|                    0|               0|  1748737598|   false|\n",
      "|mvc30mg|Submission statem...| 1748737649| false|    2|katxwoods|    t2_6h6wd5oz|              NULL|t3_1l0bvir|t3_1l0bvir|        true|/r/Futurology/com...|Futurology|    t5_2t7no|           r/Futurology|        public|                    0|               1|  1748737664|   false|\n",
      "+-------+--------------------+-----------+------+-----+---------+---------------+------------------+----------+----------+------------+--------------------+----------+------------+-----------------------+--------------+---------------------+----------------+------------+--------+\n",
      "only showing top 2 rows\n",
      "\n"
     ]
    }
   ],
   "source": [
    "df_cmt.show(2)"
   ]
  },
  {
   "cell_type": "code",
   "execution_count": 9,
   "id": "79d82e9f-add4-4921-8c4e-235e55585fa8",
   "metadata": {},
   "outputs": [],
   "source": [
    "def shape(df):\n",
    "    return (len(df.columns), (df.count()))"
   ]
  },
  {
   "cell_type": "code",
   "execution_count": null,
   "id": "95c4ed6c-24c4-491f-8c98-25008319c598",
   "metadata": {},
   "outputs": [],
   "source": [
    "shape(df_sub)"
   ]
  },
  {
   "cell_type": "code",
   "execution_count": 342,
   "id": "f51c3c50-f12f-4927-b8e7-67d40885f88c",
   "metadata": {},
   "outputs": [
    {
     "data": {
      "text/plain": [
       "(20, 6)"
      ]
     },
     "execution_count": 342,
     "metadata": {},
     "output_type": "execute_result"
    }
   ],
   "source": [
    "shape(df_cmt)"
   ]
  },
  {
   "cell_type": "code",
   "execution_count": 343,
   "id": "c183b6f6-aa1e-42c8-9e56-dd94a678ede9",
   "metadata": {},
   "outputs": [],
   "source": [
    "from pyspark.sql import functions as F\n",
    "\n",
    "df_sub = df_sub.withColumn(\n",
    "    \"created_date\",\n",
    "    F.from_unixtime(F.col(\"created_utc\")).cast(\"timestamp\")\n",
    ")\n"
   ]
  },
  {
   "cell_type": "code",
   "execution_count": 344,
   "id": "ee3e16e9-bff9-4c39-826b-dc3f1c85b44b",
   "metadata": {},
   "outputs": [
    {
     "name": "stdout",
     "output_type": "stream",
     "text": [
      "+-------------------+\n",
      "|       created_date|\n",
      "+-------------------+\n",
      "|2025-06-01 07:07:25|\n",
      "|2025-06-01 07:25:33|\n",
      "|2025-06-01 07:27:18|\n",
      "|2025-06-01 07:27:41|\n",
      "|2025-06-01 07:30:13|\n",
      "+-------------------+\n",
      "only showing top 5 rows\n",
      "\n"
     ]
    }
   ],
   "source": [
    "df_sub.select('created_date').show(5)"
   ]
  },
  {
   "cell_type": "code",
   "execution_count": 345,
   "id": "20003210-0c01-48e0-bf8f-4fc3591ed7cc",
   "metadata": {},
   "outputs": [],
   "source": [
    "from pyspark.sql import functions as F\n",
    "\n",
    "df_cmt = df_cmt.withColumn(\n",
    "    \"created_date\",\n",
    "    F.from_unixtime(F.col(\"created_utc\")).cast(\"timestamp\")\n",
    ")\n"
   ]
  },
  {
   "cell_type": "code",
   "execution_count": 346,
   "id": "cecae6d3-4d72-46f7-b1ba-f0f466d8e984",
   "metadata": {},
   "outputs": [
    {
     "name": "stdout",
     "output_type": "stream",
     "text": [
      "+-------------------+\n",
      "|       created_date|\n",
      "+-------------------+\n",
      "|2025-06-06 21:29:04|\n",
      "|2025-06-06 22:16:19|\n",
      "|2025-06-06 22:13:52|\n",
      "|2025-06-06 22:31:06|\n",
      "|2025-06-06 22:31:07|\n",
      "+-------------------+\n",
      "only showing top 5 rows\n",
      "\n"
     ]
    }
   ],
   "source": [
    "df_cmt.select('created_date').show(5)\n",
    "\n"
   ]
  },
  {
   "cell_type": "code",
   "execution_count": 347,
   "id": "240dbead-7455-48a3-962b-9275e1620d02",
   "metadata": {},
   "outputs": [
    {
     "name": "stdout",
     "output_type": "stream",
     "text": [
      "+--------------------+---------------+-----+-----+\n",
      "|              author|author_fullname|flag1|flag2|\n",
      "+--------------------+---------------+-----+-----+\n",
      "|           [deleted]|           NULL| true| true|\n",
      "|            Gari_305|    t2_65fa26pr|false|false|\n",
      "|           katxwoods|    t2_6h6wd5oz|false|false|\n",
      "|       Businessmarck|    t2_8mw6j6fe|false|false|\n",
      "|     Present_Fill412|   t2_p5klht0fl|false|false|\n",
      "|     Present_Fill412|   t2_p5klht0fl|false|false|\n",
      "|     Present_Fill412|   t2_p5klht0fl|false|false|\n",
      "|     Present_Fill412|   t2_p5klht0fl|false|false|\n",
      "|    IlustriousCoffee|  t2_1khgdtu3js|false|false|\n",
      "|            Gari_305|    t2_65fa26pr|false|false|\n",
      "| Careless_Package555|    t2_vorn1pyv|false|false|\n",
      "|            Gari_305|    t2_65fa26pr|false|false|\n",
      "|      indig0sixalpha|       t2_ht9gq|false|false|\n",
      "|  Informal-Rock-2681|  t2_14i3wvhp29|false|false|\n",
      "|    Clearblueskymind|    t2_abqdnc4d|false|false|\n",
      "|     Ok_Positive4828|  t2_10jrr0662p|false|false|\n",
      "|              d-kuro|    t2_4psq2ncp|false|false|\n",
      "|           [deleted]|           NULL| true| true|\n",
      "|          atharv1525|   t2_xfs2qcly8|false|false|\n",
      "|Greedy_Principle5345|    t2_sv7nduam|false|false|\n",
      "+--------------------+---------------+-----+-----+\n",
      "only showing top 20 rows\n",
      "\n"
     ]
    }
   ],
   "source": [
    "df_accDeleted = df_sub.selectExpr(\n",
    "    \"author\", \n",
    "    \"author_fullname\", \n",
    "    \"author = '[deleted]' AS flag1\",\n",
    "    \"author_fullname IS NULL AS flag2\",\n",
    ")\n",
    "df_accDeleted.show()"
   ]
  },
  {
   "cell_type": "code",
   "execution_count": 348,
   "id": "8a8cc103-59f8-48d3-9288-bf53aa9acfaa",
   "metadata": {},
   "outputs": [
    {
     "data": {
      "text/plain": [
       "116"
      ]
     },
     "execution_count": 348,
     "metadata": {},
     "output_type": "execute_result"
    }
   ],
   "source": [
    "df_accDeleted.selectExpr(\"flag1 AS isTrue\") \\\n",
    "             .filter(\"isTrue\") \\\n",
    "             .count()"
   ]
  },
  {
   "cell_type": "code",
   "execution_count": 349,
   "id": "565f89e3-eb9f-4703-887d-958aa5e16094",
   "metadata": {},
   "outputs": [
    {
     "data": {
      "text/plain": [
       "116"
      ]
     },
     "execution_count": 349,
     "metadata": {},
     "output_type": "execute_result"
    }
   ],
   "source": [
    "df_accDeleted.selectExpr(\"flag2 AS isTrue\") \\\n",
    "             .filter(\"isTrue\") \\\n",
    "             .count()"
   ]
  },
  {
   "cell_type": "code",
   "execution_count": 350,
   "id": "4b85a33d-1cff-452a-8453-ea761a938138",
   "metadata": {},
   "outputs": [],
   "source": [
    "df_sub = df_sub.selectExpr(\n",
    "                '*',\n",
    "                \"author='[deleted]' AND author_fullname IS NULL AS acc_deleted\"\n",
    ")"
   ]
  },
  {
   "cell_type": "code",
   "execution_count": 351,
   "id": "cb6a19a8-7e57-4686-a35a-3f62c71b4f5f",
   "metadata": {},
   "outputs": [
    {
     "name": "stdout",
     "output_type": "stream",
     "text": [
      "+-----------+\n",
      "|acc_deleted|\n",
      "+-----------+\n",
      "|       true|\n",
      "|      false|\n",
      "|      false|\n",
      "|      false|\n",
      "|      false|\n",
      "+-----------+\n",
      "only showing top 5 rows\n",
      "\n"
     ]
    }
   ],
   "source": [
    "df_sub.select('acc_deleted').show(5)"
   ]
  },
  {
   "cell_type": "code",
   "execution_count": 352,
   "id": "62891e02-d314-4381-948a-4844fd7654cf",
   "metadata": {},
   "outputs": [
    {
     "data": {
      "text/plain": [
       "116"
      ]
     },
     "execution_count": 352,
     "metadata": {},
     "output_type": "execute_result"
    }
   ],
   "source": [
    "df_sub.filter('acc_deleted').count()"
   ]
  },
  {
   "cell_type": "code",
   "execution_count": 353,
   "id": "676835bd-d173-4ce9-81c5-ebf473b82471",
   "metadata": {},
   "outputs": [
    {
     "data": {
      "text/plain": [
       "(28, 7306)"
      ]
     },
     "execution_count": 353,
     "metadata": {},
     "output_type": "execute_result"
    }
   ],
   "source": [
    "shape(df_sub)"
   ]
  },
  {
   "cell_type": "code",
   "execution_count": 354,
   "id": "cbd657ff-091a-4bb8-a6ec-825a9a15573c",
   "metadata": {},
   "outputs": [],
   "source": [
    "df_body_removed = df_sub.selectExpr(\n",
    "        'acc_deleted',\n",
    "        \"selftext='[removed]' AS post_deleted\")"
   ]
  },
  {
   "cell_type": "code",
   "execution_count": 355,
   "id": "bdb18a2c-22b3-4834-887a-93bfcc821178",
   "metadata": {},
   "outputs": [
    {
     "name": "stdout",
     "output_type": "stream",
     "text": [
      "+-----------+------------+\n",
      "|acc_deleted|post_deleted|\n",
      "+-----------+------------+\n",
      "|       true|        true|\n",
      "|      false|       false|\n",
      "+-----------+------------+\n",
      "only showing top 2 rows\n",
      "\n"
     ]
    }
   ],
   "source": [
    "df_body_removed.show(2)"
   ]
  },
  {
   "cell_type": "code",
   "execution_count": 356,
   "id": "df295cd1-e1c7-4900-be34-dec45909d351",
   "metadata": {},
   "outputs": [
    {
     "data": {
      "text/plain": [
       "1149"
      ]
     },
     "execution_count": 356,
     "metadata": {},
     "output_type": "execute_result"
    }
   ],
   "source": [
    "df_body_removed.filter(\"post_deleted = true\").count()"
   ]
  },
  {
   "cell_type": "code",
   "execution_count": 357,
   "id": "86eac772-1188-4c29-b36f-f12a56a48230",
   "metadata": {},
   "outputs": [
    {
     "data": {
      "text/plain": [
       "18.661685885983434"
      ]
     },
     "execution_count": 357,
     "metadata": {},
     "output_type": "execute_result"
    }
   ],
   "source": [
    "df_body_removed.filter(\"post_deleted = true\").count() * 100 / df_body_removed.filter(\"post_deleted = false\").count()"
   ]
  },
  {
   "cell_type": "code",
   "execution_count": 358,
   "id": "156f74a9-0d02-4223-a668-c05e78152d43",
   "metadata": {},
   "outputs": [
    {
     "data": {
      "text/plain": [
       "116"
      ]
     },
     "execution_count": 358,
     "metadata": {},
     "output_type": "execute_result"
    }
   ],
   "source": [
    "df_body_removed.filter(\"acc_deleted = true\").count()"
   ]
  },
  {
   "cell_type": "code",
   "execution_count": 359,
   "id": "87d6f3c5-9738-4a76-9022-38b27b93bf2f",
   "metadata": {},
   "outputs": [
    {
     "name": "stdout",
     "output_type": "stream",
     "text": [
      "+-------+--------------------+---------+--------------------+--------------------+-------------------+---------+---------+---------------+-----------+----------+------------+-----------------------+--------------+---------------------+-----+------------+---------------------+------+------+-------+-------+--------+------------+-------------------+---------------+-------------------+-----------+------------+\n",
      "|     id|               title| selftext|                 url|           permalink|             domain|post_hint|   author|author_fullname|created_utc| subreddit|subreddit_id|subreddit_name_prefixed|subreddit_type|subreddit_subscribers|score|num_comments|total_awards_received|edited|locked|spoiler|over_18|stickied|retrieved_on|is_original_content|link_flair_text|       created_date|acc_deleted|post_deleted|\n",
      "+-------+--------------------+---------+--------------------+--------------------+-------------------+---------+---------+---------------+-----------+----------+------------+-----------------------+--------------+---------------------+-----+------------+---------------------+------+------+-------+-------+--------+------------+-------------------+---------------+-------------------+-----------+------------+\n",
      "|1l0bhr6|            Someone?|[removed]|                    |/r/technology/com...|                   |     NULL|[deleted]|           NULL| 1748736445|technology|    t5_2qh16|           r/technology|        public|             19349025|    1|           0|                    0| false| false|  false|  false|   false|  1748736462|              false|       Business|2025-06-01 07:07:25|       true|        true|\n",
      "|1l0buai|AI Hasn’t Taken Y...|         |https://www.psych...|/r/Futurology/com...|psychologytoday.com|     link| Gari_305|    t2_65fa26pr| 1748737533|Futurology|    t5_2t7no|           r/Futurology|        public|             21575272|    0|           9|                    0| false| false|  false|  false|   false|  1748737548|              false|             AI|2025-06-01 07:25:33|      false|       false|\n",
      "+-------+--------------------+---------+--------------------+--------------------+-------------------+---------+---------+---------------+-----------+----------+------------+-----------------------+--------------+---------------------+-----+------------+---------------------+------+------+-------+-------+--------+------------+-------------------+---------------+-------------------+-----------+------------+\n",
      "only showing top 2 rows\n",
      "\n"
     ]
    }
   ],
   "source": [
    "df_sub = df_sub.selectExpr(\"*\", \"selftext = '[removed]' AS post_deleted\")\n",
    "df_sub.show(2)"
   ]
  },
  {
   "cell_type": "code",
   "execution_count": 360,
   "id": "ffdda6ff-2c77-40f3-ba73-259022c0a27a",
   "metadata": {},
   "outputs": [],
   "source": [
    "df_sub.createOrReplaceTempView(\"submissions\")\n",
    "\n",
    "df_sub = spark.sql(\"\"\"\n",
    "SELECT *,\n",
    "  (\n",
    "    SIZE(\n",
    "      FILTER(\n",
    "        SPLIT(lower(title), ' '), \n",
    "        word -> instr(lower(url), word) > 0\n",
    "      )\n",
    "    ) * 1.0 / SIZE(SPLIT(lower(title), ' '))\n",
    "  ) AS match_ratio,\n",
    "  (\n",
    "    SIZE(\n",
    "      FILTER(\n",
    "        SPLIT(lower(title), ' '), \n",
    "        word -> instr(lower(url), word) > 0\n",
    "      )\n",
    "    ) * 1.0 / SIZE(SPLIT(lower(title), ' '))\n",
    "  ) >= 0.6\n",
    "  AND domain <> concat('self.', subreddit) AS spam_title_in_url\n",
    "FROM submissions\n",
    "\"\"\")\n"
   ]
  },
  {
   "cell_type": "code",
   "execution_count": 362,
   "id": "d631bcb3-b4a1-44d7-a08e-2d99b7911585",
   "metadata": {},
   "outputs": [
    {
     "name": "stdout",
     "output_type": "stream",
     "text": [
      "+--------------+-----------------+\n",
      "|   match_ratio|spam_title_in_url|\n",
      "+--------------+-----------------+\n",
      "|0.000000000000|            false|\n",
      "|0.571428571429|            false|\n",
      "|0.941176470588|             true|\n",
      "|1.000000000000|            false|\n",
      "|0.222222222222|            false|\n",
      "|0.500000000000|            false|\n",
      "|0.500000000000|            false|\n",
      "|0.000000000000|            false|\n",
      "|0.700000000000|             true|\n",
      "|0.550000000000|            false|\n",
      "|0.583333333333|            false|\n",
      "|0.363636363636|            false|\n",
      "|1.000000000000|             true|\n",
      "|0.545454545455|            false|\n",
      "|0.466666666667|            false|\n",
      "|0.034482758621|            false|\n",
      "|0.090909090909|            false|\n",
      "|0.000000000000|            false|\n",
      "|1.000000000000|            false|\n",
      "|0.750000000000|             true|\n",
      "+--------------+-----------------+\n",
      "only showing top 20 rows\n",
      "\n"
     ]
    }
   ],
   "source": [
    "df_sub.select(\"match_ratio\", \"spam_title_in_url\").show()\n"
   ]
  },
  {
   "cell_type": "code",
   "execution_count": 363,
   "id": "2ba1f01d-5e5b-49e8-b486-a8ed64437ba0",
   "metadata": {},
   "outputs": [
    {
     "data": {
      "text/plain": [
       "(31, 7306)"
      ]
     },
     "execution_count": 363,
     "metadata": {},
     "output_type": "execute_result"
    }
   ],
   "source": [
    "shape(df_sub)"
   ]
  },
  {
   "cell_type": "code",
   "execution_count": null,
   "id": "16f337ec-b174-4b67-8d18-3be5cb948622",
   "metadata": {},
   "outputs": [],
   "source": []
  },
  {
   "cell_type": "code",
   "execution_count": null,
   "id": "3cbaf1d3-8100-4e85-9543-9d41b7c4c1e8",
   "metadata": {},
   "outputs": [],
   "source": []
  }
 ],
 "metadata": {
  "kernelspec": {
   "display_name": "Python 3 (ipykernel)",
   "language": "python",
   "name": "python3"
  },
  "language_info": {
   "codemirror_mode": {
    "name": "ipython",
    "version": 3
   },
   "file_extension": ".py",
   "mimetype": "text/x-python",
   "name": "python",
   "nbconvert_exporter": "python",
   "pygments_lexer": "ipython3",
   "version": "3.12.3"
  }
 },
 "nbformat": 4,
 "nbformat_minor": 5
}
